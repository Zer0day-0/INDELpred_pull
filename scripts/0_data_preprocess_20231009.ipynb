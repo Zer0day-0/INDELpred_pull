{
 "cells": [
  {
   "cell_type": "code",
   "execution_count": 1,
   "metadata": {
    "collapsed": false,
    "execution": {
     "iopub.execute_input": "2024-01-12T07:48:28.373107Z",
     "iopub.status.busy": "2024-01-12T07:48:28.372343Z",
     "iopub.status.idle": "2024-01-12T07:48:59.133709Z",
     "shell.execute_reply": "2024-01-12T07:48:59.132567Z",
     "shell.execute_reply.started": "2024-01-12T07:48:28.373056Z"
    },
    "jupyter": {
     "outputs_hidden": false
    },
    "pycharm": {
     "name": "#%%\n"
    },
    "tags": []
   },
   "outputs": [],
   "source": [
    "import pandas as pd\n",
    "import numpy as np\n",
    "import matplotlib.pyplot as plt\n",
    "import seaborn as sns"
   ]
  },
  {
   "cell_type": "code",
   "execution_count": 2,
   "metadata": {
    "collapsed": false,
    "execution": {
     "iopub.execute_input": "2024-01-12T07:48:59.142706Z",
     "iopub.status.busy": "2024-01-12T07:48:59.142382Z",
     "iopub.status.idle": "2024-01-12T07:48:59.147347Z",
     "shell.execute_reply": "2024-01-12T07:48:59.146572Z",
     "shell.execute_reply.started": "2024-01-12T07:48:59.142683Z"
    },
    "jupyter": {
     "outputs_hidden": false
    },
    "pycharm": {
     "name": "#%%\n"
    },
    "tags": []
   },
   "outputs": [],
   "source": [
    "import pickle\n",
    "def save_data(data, outfile):\n",
    "    with open(outfile, 'wb') as outf:\n",
    "        pickle.dump(data, outf)\n",
    "\n",
    "def load_data(infile):\n",
    "    with open(infile, 'rb') as inf:\n",
    "        data = pickle.load(inf)\n",
    "    return data\n"
   ]
  },
  {
   "cell_type": "code",
   "execution_count": 3,
   "metadata": {
    "execution": {
     "iopub.execute_input": "2024-01-12T07:48:59.149938Z",
     "iopub.status.busy": "2024-01-12T07:48:59.149339Z",
     "iopub.status.idle": "2024-01-12T07:48:59.165195Z",
     "shell.execute_reply": "2024-01-12T07:48:59.164434Z",
     "shell.execute_reply.started": "2024-01-12T07:48:59.149912Z"
    },
    "tags": []
   },
   "outputs": [],
   "source": [
    "import time\n",
    "loca = time.strftime('%Y-%m-%d')"
   ]
  },
  {
   "cell_type": "code",
   "execution_count": 4,
   "metadata": {
    "collapsed": false,
    "execution": {
     "iopub.execute_input": "2024-01-12T07:48:59.166519Z",
     "iopub.status.busy": "2024-01-12T07:48:59.166289Z",
     "iopub.status.idle": "2024-01-12T07:48:59.174659Z",
     "shell.execute_reply": "2024-01-12T07:48:59.173841Z",
     "shell.execute_reply.started": "2024-01-12T07:48:59.166499Z"
    },
    "jupyter": {
     "outputs_hidden": false
    },
    "pycharm": {
     "name": "#%%\n"
    },
    "tags": []
   },
   "outputs": [],
   "source": [
    "#https://annovar.openbioinformatics.org/en/latest/user-guide/gene/\n",
    "dict_gene1 = {\n",
    "    #'Func.refGene',\n",
    "    'stream':5,\n",
    "    'exonic':1,\n",
    "    'intergenic':6,\n",
    "    'intronic':4,\n",
    "    'ncRNA':2,\n",
    "    'splicing':1,\n",
    "    'UTR':3,\n",
    "}\n",
    "dict_gene2={\n",
    "    '.':12,\n",
    "    #'ExonicFunc.refGene',\n",
    "    'frameshift deletion':2,\n",
    "    'frameshift insertion':1,\n",
    "    'frameshift substitution':3,\n",
    "    'nonframeshift deletion':7,\n",
    "    'nonframeshift insertion':6,\n",
    "    'nonframeshift substitution':8,\n",
    "    'nonsynonymous SNV':9,\n",
    "    'synonymous SNV':10,\n",
    "    'stopgain':4,\n",
    "    'stoploss':5,\n",
    "    'startloss':0,\n",
    "    'unknown':11\n",
    "}"
   ]
  },
  {
   "cell_type": "code",
   "execution_count": 5,
   "metadata": {
    "collapsed": false,
    "execution": {
     "iopub.execute_input": "2024-01-12T07:48:59.175906Z",
     "iopub.status.busy": "2024-01-12T07:48:59.175660Z",
     "iopub.status.idle": "2024-01-12T07:48:59.183244Z",
     "shell.execute_reply": "2024-01-12T07:48:59.182398Z",
     "shell.execute_reply.started": "2024-01-12T07:48:59.175885Z"
    },
    "jupyter": {
     "outputs_hidden": false
    },
    "pycharm": {
     "name": "#%%\n"
    },
    "tags": []
   },
   "outputs": [],
   "source": [
    "tag_list=['Pathogenic','Likely_pathogenic','Pathogenic/Likely_pathogenic',\n",
    "         'Benign','Likely_benign','Benign/Likely_benign']"
   ]
  },
  {
   "cell_type": "code",
   "execution_count": 6,
   "metadata": {
    "collapsed": false,
    "execution": {
     "iopub.execute_input": "2024-01-12T07:48:59.184557Z",
     "iopub.status.busy": "2024-01-12T07:48:59.184323Z",
     "iopub.status.idle": "2024-01-12T07:48:59.192023Z",
     "shell.execute_reply": "2024-01-12T07:48:59.191247Z",
     "shell.execute_reply.started": "2024-01-12T07:48:59.184537Z"
    },
    "jupyter": {
     "outputs_hidden": false
    },
    "pycharm": {
     "name": "#%%\n"
    },
    "tags": []
   },
   "outputs": [],
   "source": [
    "#https://www.ncbi.nlm.nih.gov/clinvar/docs/review_status/\n",
    "dict_CLNREVSTAT={\n",
    "    'criteria_provided,_single_submitter':1,\n",
    "    'no_assertion_criteria_provided':0,\n",
    "    'criteria_provided,_multiple_submitters,_no_conflicts':2,\n",
    "    'reviewed_by_expert_panel':3,\n",
    "    'practice_guideline':4\n",
    "}"
   ]
  },
  {
   "cell_type": "code",
   "execution_count": 7,
   "metadata": {
    "collapsed": false,
    "execution": {
     "iopub.execute_input": "2024-01-12T07:48:59.193214Z",
     "iopub.status.busy": "2024-01-12T07:48:59.192984Z",
     "iopub.status.idle": "2024-01-12T07:48:59.202345Z",
     "shell.execute_reply": "2024-01-12T07:48:59.201573Z",
     "shell.execute_reply.started": "2024-01-12T07:48:59.193194Z"
    },
    "jupyter": {
     "outputs_hidden": false
    },
    "pycharm": {
     "name": "#%%\n"
    },
    "tags": []
   },
   "outputs": [],
   "source": [
    "columns_list = ['CHR', 'POS', 'REF', 'ALT', 'Func.refGene', 'Gene.refGene', \n",
    "                'ExonicFunc.refGene', 'controls_AF_popmax', 'Length', 'MultOf3',\n",
    "                'exonic', 'stream', 'intergenic', 'intronic', 'ncRNA', 'splicing',\n",
    "                'UTR', 'frameshift deletion', 'frameshift insertion',\n",
    "                'nonframeshift deletion', 'nonframeshift insertion', 'startloss',\n",
    "                'stopgain', 'stoploss', 'Func_b', 'Func_p', 'ExonicFunc_b', 'ExonicFunc_p', 'tag']\n",
    "rename_col = ['CHR', 'POS', 'REF', 'ALT', 'Func.refGene', 'Gene.refGene',\n",
    "              'ExonicFunc.refGene', 'AF', 'length', 'MultOf3',\n",
    "              'exonic', 'stream', 'intergenic', 'intronic', 'ncRNA', 'splicing',\n",
    "              'UTR', 'frameshift_deletion', 'frameshift_insertion',\n",
    "              'nonframeshift_deletion', 'nonframeshift_insertion', 'startloss',\n",
    "              'stopgain', 'stoploss', 'Func_b', 'Func_p', 'ExonicFunc_b', 'ExonicFunc_p', 'tag']"
   ]
  },
  {
   "cell_type": "markdown",
   "metadata": {},
   "source": [
    "# function used in preprocess"
   ]
  },
  {
   "cell_type": "code",
   "execution_count": 8,
   "metadata": {
    "execution": {
     "iopub.execute_input": "2024-01-12T07:48:59.203698Z",
     "iopub.status.busy": "2024-01-12T07:48:59.203364Z",
     "iopub.status.idle": "2024-01-12T07:49:00.034100Z",
     "shell.execute_reply": "2024-01-12T07:49:00.033161Z",
     "shell.execute_reply.started": "2024-01-12T07:48:59.203676Z"
    },
    "tags": []
   },
   "outputs": [],
   "source": [
    "P_ig_pivot_Func, P_ig_pivot_exonicFunc, dic_func_b, dic_func_p, dic_exon_func_b, dic_exon_func_p = load_data(\"/hwfssz1/ST_HEALTH/P20Z10200N0170/weiyilin/project/INDELpred/pipeline/model/func_feature.pkl\")\n",
    "fill_values_Func = P_ig_pivot_Func.fillna(0).mean(numeric_only=True)\n",
    "fill_values_exonicFunc = P_ig_pivot_exonicFunc.fillna(0).mean(numeric_only=True)"
   ]
  },
  {
   "cell_type": "code",
   "execution_count": 9,
   "metadata": {
    "execution": {
     "iopub.execute_input": "2024-01-12T07:49:00.037552Z",
     "iopub.status.busy": "2024-01-12T07:49:00.037129Z",
     "iopub.status.idle": "2024-01-12T07:49:00.044998Z",
     "shell.execute_reply": "2024-01-12T07:49:00.044191Z",
     "shell.execute_reply.started": "2024-01-12T07:49:00.037528Z"
    },
    "tags": []
   },
   "outputs": [],
   "source": [
    "def process_dataframe(df):\n",
    "    column_mapping = {\n",
    "        'Otherinfo4': 'CHR',\n",
    "        'Otherinfo5': 'POS',\n",
    "        'Otherinfo7': 'REF',\n",
    "        'Otherinfo8': 'ALT'\n",
    "    }\n",
    "    df = df.rename(columns=column_mapping)\n",
    "    df['Length'] = (df['REF'].str.len() - df['ALT'].str.len()).abs()\n",
    "    df['MultOf3'] = (df['Length'] % 3 == 0).astype(int)\n",
    "    values_to_remove = ['nonframeshift substitution', 'frameshift substitution', 'nonsynonymous SNV', 'synonymous SNV']\n",
    "    df = df[~df['ExonicFunc.refGene'].isin(values_to_remove)]\n",
    "    return df\n",
    "\n",
    "# Example usage:\n",
    "# processed_total = process_dataframe(total)\n"
   ]
  },
  {
   "cell_type": "code",
   "execution_count": 10,
   "metadata": {
    "execution": {
     "iopub.execute_input": "2024-01-12T07:49:00.046391Z",
     "iopub.status.busy": "2024-01-12T07:49:00.046041Z",
     "iopub.status.idle": "2024-01-12T07:49:00.057007Z",
     "shell.execute_reply": "2024-01-12T07:49:00.056206Z",
     "shell.execute_reply.started": "2024-01-12T07:49:00.046368Z"
    },
    "tags": []
   },
   "outputs": [],
   "source": [
    "def compute_func_score(df):\n",
    "    \"\"\"\n",
    "    Compute the func score for a given dataframe.\n",
    "\n",
    "    Parameters:\n",
    "    - df: pandas DataFrame to be processed.\n",
    "    - model_path: path to the func feature model.\n",
    "\n",
    "    Returns:\n",
    "    - Processed pandas DataFrame with computed func score.\n",
    "    \"\"\"\n",
    "    \n",
    "    # Combine stream, UTR, ncRNA, and exonic\n",
    "    df['Func.refGene'] = df['Func.refGene'].str.replace(r'.*UTR.*', 'UTR', regex=True)\n",
    "    df['Func.refGene'] = df['Func.refGene'].str.replace(r'.*ncRNA.*', 'ncRNA', regex=True)\n",
    "    df['Func.refGene'] = df['Func.refGene'].str.replace(r'.*stream.*', 'stream', regex=True)\n",
    "    df['Func.refGene'] = df['Func.refGene'].str.replace(r'.*exonic.*', 'exonic', regex=True)\n",
    "\n",
    "    # Merge calculated P_ig_pivot_(exonic)Func\n",
    "    df = df.merge(P_ig_pivot_Func, on='Gene.refGene', how='left')\n",
    "    df = df.merge(P_ig_pivot_exonicFunc, on='Gene.refGene', how='left')\n",
    "\n",
    "    # Fill missing values in P_ig_pivot_(exonic)Func\n",
    "    for col in fill_values_Func.index:\n",
    "        df[col].fillna(fill_values_Func[col], inplace=True)\n",
    "    for col in fill_values_exonicFunc.index:\n",
    "        df.loc[df['Func.refGene'] != 'exonic', col] = 0\n",
    "        df.loc[df['Func.refGene'] == 'exonic', col] = fill_values_exonicFunc[col]\n",
    "    \n",
    "    return df\n",
    "\n",
    "# Example usage:\n",
    "# processed_total = compute_func_score(total)\n"
   ]
  },
  {
   "cell_type": "code",
   "execution_count": 11,
   "metadata": {
    "execution": {
     "iopub.execute_input": "2024-01-12T07:49:00.058439Z",
     "iopub.status.busy": "2024-01-12T07:49:00.058084Z",
     "iopub.status.idle": "2024-01-12T07:49:00.064236Z",
     "shell.execute_reply": "2024-01-12T07:49:00.063491Z",
     "shell.execute_reply.started": "2024-01-12T07:49:00.058416Z"
    },
    "tags": []
   },
   "outputs": [],
   "source": [
    "# Function to replace data based on predefined dictionaries\n",
    "def func_replace(data):\n",
    "    data['Func_b'] = data['Func.refGene'].replace(dic_func_b)\n",
    "    data['Func_p'] = data['Func.refGene'].replace(dic_func_p)\n",
    "    data['Func'] = data['Func.refGene'].replace(dict_gene1)\n",
    "    data['ExonicFunc_b'] = data['ExonicFunc.refGene'].replace(dic_exon_func_b)\n",
    "    data['ExonicFunc_p'] = data['ExonicFunc.refGene'].replace(dic_exon_func_p)\n",
    "    data['ExonicFunc'] = data['ExonicFunc.refGene'].replace(dict_gene2)\n",
    "    return data\n",
    "\n",
    "# Example usage:\n",
    "# func_replace(total)"
   ]
  },
  {
   "cell_type": "markdown",
   "metadata": {
    "jupyter": {
     "outputs_hidden": false
    },
    "tags": []
   },
   "source": [
    "# ClinvarTrain"
   ]
  },
  {
   "cell_type": "code",
   "execution_count": 16,
   "metadata": {
    "collapsed": false,
    "execution": {
     "iopub.execute_input": "2024-01-12T02:09:06.855738Z",
     "iopub.status.busy": "2024-01-12T02:09:06.855105Z",
     "iopub.status.idle": "2024-01-12T02:09:10.911566Z",
     "shell.execute_reply": "2024-01-12T02:09:10.910208Z",
     "shell.execute_reply.started": "2024-01-12T02:09:06.855699Z"
    },
    "jupyter": {
     "outputs_hidden": false
    },
    "pycharm": {
     "name": "#%%\n"
    },
    "tags": []
   },
   "outputs": [
    {
     "name": "stderr",
     "output_type": "stream",
     "text": [
      "/tmp/ipykernel_49076/4149665268.py:2: DtypeWarning: Columns (0,55) have mixed types. Specify dtype option on import or set low_memory=False.\n",
      "  total = pd.read_table(trian_path)\n"
     ]
    }
   ],
   "source": [
    "trian_path = '../database/clinvar_20211009_indel.hg19_multianno.txt'\n",
    "total = pd.read_table(trian_path)\n"
   ]
  },
  {
   "cell_type": "code",
   "execution_count": 17,
   "metadata": {
    "collapsed": false,
    "execution": {
     "iopub.execute_input": "2024-01-12T02:09:12.641693Z",
     "iopub.status.busy": "2024-01-12T02:09:12.640436Z",
     "iopub.status.idle": "2024-01-12T02:09:15.246890Z",
     "shell.execute_reply": "2024-01-12T02:09:15.246067Z",
     "shell.execute_reply.started": "2024-01-12T02:09:12.641620Z"
    },
    "jupyter": {
     "outputs_hidden": false
    },
    "pycharm": {
     "name": "#%%\n"
    },
    "tags": []
   },
   "outputs": [],
   "source": [
    "# 提取筛选所需特征\n",
    "total['CLNREVSTAT'] = total['Otherinfo11'].str.extract(r'CLNREVSTAT=(.*?);')\n",
    "total['CLNSIG'] = total['Otherinfo11'].str.extract(r'CLNSIG=(.*?);')\n",
    "total = process_dataframe(total)"
   ]
  },
  {
   "cell_type": "code",
   "execution_count": 21,
   "metadata": {
    "collapsed": false,
    "execution": {
     "iopub.execute_input": "2024-01-12T02:10:30.155847Z",
     "iopub.status.busy": "2024-01-12T02:10:30.154725Z",
     "iopub.status.idle": "2024-01-12T02:10:30.604407Z",
     "shell.execute_reply": "2024-01-12T02:10:30.603458Z",
     "shell.execute_reply.started": "2024-01-12T02:10:30.155778Z"
    },
    "jupyter": {
     "outputs_hidden": false
    },
    "pycharm": {
     "name": "#%%\n"
    },
    "tags": []
   },
   "outputs": [],
   "source": [
    "# 筛选\n",
    "criteria = ['criteria_provided,_single_submitter',\n",
    "            'criteria_provided,_multiple_submitters,_no_conflicts',\n",
    "            'reviewed_by_expert_panel']\n",
    "values_to_remove = ['nonframeshift substitution', 'frameshift substitution', 'nonsynonymous SNV', 'synonymous SNV']\n",
    "\n",
    "total = total[(total['CLNREVSTAT'].isin(criteria))]\n",
    "total = total[(total['Length'] <= 1000) & (total['Length'] > 0)]\n",
    "total = total[~total['ExonicFunc.refGene'].isin(values_to_remove)]\n",
    "total = total[total['Chr'].isin(list(range(1, 22)) + ['X', 'Y'])]"
   ]
  },
  {
   "cell_type": "markdown",
   "metadata": {
    "jupyter": {
     "outputs_hidden": false
    }
   },
   "source": [
    "calculate P_{ig}"
   ]
  },
  {
   "cell_type": "code",
   "execution_count": 22,
   "metadata": {
    "collapsed": false,
    "execution": {
     "iopub.execute_input": "2024-01-12T02:10:33.105369Z",
     "iopub.status.busy": "2024-01-12T02:10:33.104667Z",
     "iopub.status.idle": "2024-01-12T02:10:33.498122Z",
     "shell.execute_reply": "2024-01-12T02:10:33.497340Z",
     "shell.execute_reply.started": "2024-01-12T02:10:33.105322Z"
    },
    "jupyter": {
     "outputs_hidden": false
    },
    "pycharm": {
     "name": "#%%\n"
    },
    "tags": []
   },
   "outputs": [
    {
     "name": "stderr",
     "output_type": "stream",
     "text": [
      "/tmp/ipykernel_49076/3822539340.py:2: FutureWarning: The default value of regex will change from True to False in a future version.\n",
      "  total['Func.refGene'] = total['Func.refGene'].str.replace(r'.*UTR.*', 'UTR')\n",
      "/tmp/ipykernel_49076/3822539340.py:3: FutureWarning: The default value of regex will change from True to False in a future version.\n",
      "  total['Func.refGene'] = total['Func.refGene'].str.replace(r'.*ncRNA.*', 'ncRNA')\n",
      "/tmp/ipykernel_49076/3822539340.py:4: FutureWarning: The default value of regex will change from True to False in a future version.\n",
      "  total['Func.refGene'] = total['Func.refGene'].str.replace(r'.*stream.*', 'stream')\n",
      "/tmp/ipykernel_49076/3822539340.py:5: FutureWarning: The default value of regex will change from True to False in a future version.\n",
      "  total['Func.refGene'] = total['Func.refGene'].str.replace(r'.*exonic.*', 'exonic')\n"
     ]
    }
   ],
   "source": [
    "total['Func.refGene'] = total['Func.refGene'].str.replace(r'.*UTR.*', 'UTR')\n",
    "total['Func.refGene'] = total['Func.refGene'].str.replace(r'.*ncRNA.*', 'ncRNA')\n",
    "total['Func.refGene'] = total['Func.refGene'].str.replace(r'.*stream.*', 'stream')\n",
    "total['Func.refGene'] = total['Func.refGene'].str.replace(r'.*exonic.*', 'exonic')"
   ]
  },
  {
   "cell_type": "code",
   "execution_count": 23,
   "metadata": {
    "collapsed": false,
    "execution": {
     "iopub.execute_input": "2024-01-12T02:10:36.901221Z",
     "iopub.status.busy": "2024-01-12T02:10:36.900541Z",
     "iopub.status.idle": "2024-01-12T02:10:37.804526Z",
     "shell.execute_reply": "2024-01-12T02:10:37.803646Z",
     "shell.execute_reply.started": "2024-01-12T02:10:36.901173Z"
    },
    "jupyter": {
     "outputs_hidden": false
    },
    "pycharm": {
     "name": "#%%\n"
    },
    "tags": []
   },
   "outputs": [],
   "source": [
    "# caluculate Func P_{ig}\n",
    "N_pig = total[total['CLNSIG'].isin(['Pathogenic','Likely_pathogenic'])].groupby(['Gene.refGene', 'Func.refGene']).size()\n",
    "N_ig = total.groupby(['Gene.refGene', 'Func.refGene']).size()\n",
    "P_ig = N_pig / N_ig\n",
    "P_ig = P_ig.reset_index(name='P_ig')\n",
    "P_ig_pivot_Func = P_ig.pivot(index='Gene.refGene', columns='Func.refGene', values='P_ig').reset_index()\n",
    "total = total.merge(P_ig_pivot_Func, on='Gene.refGene', how='left')"
   ]
  },
  {
   "cell_type": "code",
   "execution_count": 24,
   "metadata": {
    "collapsed": false,
    "execution": {
     "iopub.execute_input": "2024-01-12T02:10:39.322453Z",
     "iopub.status.busy": "2024-01-12T02:10:39.321691Z",
     "iopub.status.idle": "2024-01-12T02:10:39.842513Z",
     "shell.execute_reply": "2024-01-12T02:10:39.841348Z",
     "shell.execute_reply.started": "2024-01-12T02:10:39.322401Z"
    },
    "jupyter": {
     "outputs_hidden": false
    },
    "pycharm": {
     "name": "#%%\n"
    },
    "tags": []
   },
   "outputs": [],
   "source": [
    "# calculate ExonicFunc P_{ig}\n",
    "N_pig = total[total['CLNSIG'].isin(['Pathogenic','Likely_pathogenic'])].groupby(['Gene.refGene', 'ExonicFunc.refGene']).size()\n",
    "N_ig = total.groupby(['Gene.refGene', 'ExonicFunc.refGene']).size()\n",
    "P_ig = N_pig / N_ig\n",
    "P_ig = P_ig.reset_index(name='P_ig')\n",
    "P_ig_pivot_exonicFunc = P_ig.pivot(index='Gene.refGene', columns='ExonicFunc.refGene', values='P_ig').reset_index()\n",
    "total = total.merge(P_ig_pivot_exonicFunc, on='Gene.refGene', how='left')"
   ]
  },
  {
   "cell_type": "markdown",
   "metadata": {
    "jupyter": {
     "outputs_hidden": false
    }
   },
   "source": [
    "custom funcation-based score"
   ]
  },
  {
   "cell_type": "code",
   "execution_count": 25,
   "metadata": {
    "collapsed": false,
    "execution": {
     "iopub.execute_input": "2024-01-12T02:10:45.245594Z",
     "iopub.status.busy": "2024-01-12T02:10:45.244846Z",
     "iopub.status.idle": "2024-01-12T02:10:45.279450Z",
     "shell.execute_reply": "2024-01-12T02:10:45.278364Z",
     "shell.execute_reply.started": "2024-01-12T02:10:45.245543Z"
    },
    "jupyter": {
     "outputs_hidden": false
    },
    "pycharm": {
     "name": "#%%\n"
    },
    "tags": []
   },
   "outputs": [],
   "source": [
    "p_list=['Pathogenic','Likely_pathogenic','Pathogenic/Likely_pathogenic']\n",
    "b_list=['Benign','Likely_benign','Benign/Likely_benign']\n",
    "total.loc[total['CLNSIG'].isin(p_list),'tag']=1\n",
    "total.loc[total['CLNSIG'].isin(b_list),'tag']=0\n",
    "total['tag'].fillna(-9, inplace=True)"
   ]
  },
  {
   "cell_type": "code",
   "execution_count": 26,
   "metadata": {
    "collapsed": false,
    "execution": {
     "iopub.execute_input": "2024-01-12T02:10:46.891735Z",
     "iopub.status.busy": "2024-01-12T02:10:46.891028Z",
     "iopub.status.idle": "2024-01-12T02:10:47.203603Z",
     "shell.execute_reply": "2024-01-12T02:10:47.202942Z",
     "shell.execute_reply.started": "2024-01-12T02:10:46.891683Z"
    },
    "jupyter": {
     "outputs_hidden": false
    },
    "pycharm": {
     "name": "#%%\n"
    },
    "tags": []
   },
   "outputs": [
    {
     "data": {
      "text/html": [
       "<div>\n",
       "<style scoped>\n",
       "    .dataframe tbody tr th:only-of-type {\n",
       "        vertical-align: middle;\n",
       "    }\n",
       "\n",
       "    .dataframe tbody tr th {\n",
       "        vertical-align: top;\n",
       "    }\n",
       "\n",
       "    .dataframe thead th {\n",
       "        text-align: right;\n",
       "    }\n",
       "</style>\n",
       "<table border=\"1\" class=\"dataframe\">\n",
       "  <thead>\n",
       "    <tr style=\"text-align: right;\">\n",
       "      <th></th>\n",
       "      <th>benign</th>\n",
       "      <th>pathogenic</th>\n",
       "      <th>other</th>\n",
       "    </tr>\n",
       "  </thead>\n",
       "  <tbody>\n",
       "    <tr>\n",
       "      <th>intronic</th>\n",
       "      <td>21768</td>\n",
       "      <td>234</td>\n",
       "      <td>1622</td>\n",
       "    </tr>\n",
       "    <tr>\n",
       "      <th>UTR</th>\n",
       "      <td>2518</td>\n",
       "      <td>26</td>\n",
       "      <td>3288</td>\n",
       "    </tr>\n",
       "    <tr>\n",
       "      <th>exonic</th>\n",
       "      <td>2126</td>\n",
       "      <td>40939</td>\n",
       "      <td>10369</td>\n",
       "    </tr>\n",
       "    <tr>\n",
       "      <th>ncRNA</th>\n",
       "      <td>835</td>\n",
       "      <td>45</td>\n",
       "      <td>235</td>\n",
       "    </tr>\n",
       "    <tr>\n",
       "      <th>stream</th>\n",
       "      <td>601</td>\n",
       "      <td>109</td>\n",
       "      <td>137</td>\n",
       "    </tr>\n",
       "    <tr>\n",
       "      <th>splicing</th>\n",
       "      <td>262</td>\n",
       "      <td>809</td>\n",
       "      <td>338</td>\n",
       "    </tr>\n",
       "    <tr>\n",
       "      <th>intergenic</th>\n",
       "      <td>9</td>\n",
       "      <td>3</td>\n",
       "      <td>7</td>\n",
       "    </tr>\n",
       "  </tbody>\n",
       "</table>\n",
       "</div>"
      ],
      "text/plain": [
       "            benign  pathogenic  other\n",
       "intronic     21768         234   1622\n",
       "UTR           2518          26   3288\n",
       "exonic        2126       40939  10369\n",
       "ncRNA          835          45    235\n",
       "stream         601         109    137\n",
       "splicing       262         809    338\n",
       "intergenic       9           3      7"
      ]
     },
     "execution_count": 26,
     "metadata": {},
     "output_type": "execute_result"
    }
   ],
   "source": [
    "func_sta=pd.concat([\n",
    "    pd.DataFrame(total[total['tag']==0]['Func.refGene'].value_counts()),\n",
    "    pd.DataFrame(total[total['tag']==1]['Func.refGene'].value_counts()),\n",
    "    pd.DataFrame(total[total['tag']==-9]['Func.refGene'].value_counts()),\n",
    "],axis=1)\n",
    "func_sta.columns=['benign','pathogenic','other']\n",
    "for column in func_sta.columns:\n",
    "    func_sta[column].fillna(0, inplace=True)\n",
    "func_sta"
   ]
  },
  {
   "cell_type": "code",
   "execution_count": 19,
   "metadata": {
    "collapsed": false,
    "execution": {
     "iopub.execute_input": "2023-12-27T11:54:23.228075Z",
     "iopub.status.busy": "2023-12-27T11:54:23.227316Z",
     "iopub.status.idle": "2023-12-27T11:54:34.451215Z",
     "shell.execute_reply": "2023-12-27T11:54:34.450528Z",
     "shell.execute_reply.started": "2023-12-27T11:54:23.228024Z"
    },
    "jupyter": {
     "outputs_hidden": false
    },
    "pycharm": {
     "name": "#%%\n"
    },
    "tags": []
   },
   "outputs": [
    {
     "name": "stderr",
     "output_type": "stream",
     "text": [
      "/jdfssz1/ST_HEALTH/P20Z10200N0041/Weiyilin/software/mambaforge/envs/sc/lib/python3.10/site-packages/seaborn/_decorators.py:36: FutureWarning: Pass the following variables as keyword args: x, y. From version 0.12, the only valid positional argument will be `data`, and passing other arguments without an explicit keyword will result in an error or misinterpretation.\n",
      "  warnings.warn(\n"
     ]
    },
    {
     "data": {
      "image/png": "[encoded data removed]",
      "text/plain": [
       "<Figure size 640x480 with 1 Axes>"
      ]
     },
     "metadata": {},
     "output_type": "display_data"
    }
   ],
   "source": [
    "positive_id = func_sta\n",
    "plt.scatter('other','benign',data=positive_id)\n",
    "sns.regplot('other','benign',data=positive_id,order=1,ci=None,\n",
    "                scatter=False)\n",
    "plt.scatter('other','pathogenic',data=positive_id,alpha=0.2)\n",
    "sns.regplot('other','pathogenic',data=positive_id,order=1,ci=None,\n",
    "                scatter=False)\n",
    "plt.legend(loc='upper left')\n",
    "plt.ylabel('number of benign/pathogenic INDEL')\n",
    "plt.xlabel('number of other INDEL')\n",
    "plt.xlim(-1,)\n",
    "plt.ylim(-1,)\n",
    "\n",
    "plt.savefig(f\"../final_fig/ols_func_{loca}.pdf\", format=\"pdf\", dpi=1000, bbox_inches='tight')\n",
    "sns.despine()"
   ]
  },
  {
   "cell_type": "code",
   "execution_count": 27,
   "metadata": {
    "collapsed": false,
    "execution": {
     "iopub.execute_input": "2024-01-12T02:10:57.625944Z",
     "iopub.status.busy": "2024-01-12T02:10:57.624752Z",
     "iopub.status.idle": "2024-01-12T02:10:57.746772Z",
     "shell.execute_reply": "2024-01-12T02:10:57.746042Z",
     "shell.execute_reply.started": "2024-01-12T02:10:57.625895Z"
    },
    "jupyter": {
     "outputs_hidden": false
    },
    "pycharm": {
     "name": "#%%\n"
    },
    "tags": []
   },
   "outputs": [
    {
     "data": {
      "text/html": [
       "<div>\n",
       "<style scoped>\n",
       "    .dataframe tbody tr th:only-of-type {\n",
       "        vertical-align: middle;\n",
       "    }\n",
       "\n",
       "    .dataframe tbody tr th {\n",
       "        vertical-align: top;\n",
       "    }\n",
       "\n",
       "    .dataframe thead th {\n",
       "        text-align: right;\n",
       "    }\n",
       "</style>\n",
       "<table border=\"1\" class=\"dataframe\">\n",
       "  <thead>\n",
       "    <tr style=\"text-align: right;\">\n",
       "      <th></th>\n",
       "      <th>benign</th>\n",
       "      <th>pathogenic</th>\n",
       "      <th>other</th>\n",
       "    </tr>\n",
       "  </thead>\n",
       "  <tbody>\n",
       "    <tr>\n",
       "      <th>.</th>\n",
       "      <td>26007</td>\n",
       "      <td>1302</td>\n",
       "      <td>5634</td>\n",
       "    </tr>\n",
       "    <tr>\n",
       "      <th>unknown</th>\n",
       "      <td>925</td>\n",
       "      <td>15701</td>\n",
       "      <td>4459</td>\n",
       "    </tr>\n",
       "    <tr>\n",
       "      <th>nonframeshift deletion</th>\n",
       "      <td>527</td>\n",
       "      <td>651</td>\n",
       "      <td>2601</td>\n",
       "    </tr>\n",
       "    <tr>\n",
       "      <th>nonframeshift insertion</th>\n",
       "      <td>338</td>\n",
       "      <td>115</td>\n",
       "      <td>950</td>\n",
       "    </tr>\n",
       "    <tr>\n",
       "      <th>frameshift deletion</th>\n",
       "      <td>196</td>\n",
       "      <td>15650</td>\n",
       "      <td>1473</td>\n",
       "    </tr>\n",
       "    <tr>\n",
       "      <th>frameshift insertion</th>\n",
       "      <td>91</td>\n",
       "      <td>7047</td>\n",
       "      <td>709</td>\n",
       "    </tr>\n",
       "    <tr>\n",
       "      <th>stopgain</th>\n",
       "      <td>27</td>\n",
       "      <td>1612</td>\n",
       "      <td>135</td>\n",
       "    </tr>\n",
       "    <tr>\n",
       "      <th>stoploss</th>\n",
       "      <td>4</td>\n",
       "      <td>54</td>\n",
       "      <td>25</td>\n",
       "    </tr>\n",
       "    <tr>\n",
       "      <th>startloss</th>\n",
       "      <td>4</td>\n",
       "      <td>33</td>\n",
       "      <td>10</td>\n",
       "    </tr>\n",
       "  </tbody>\n",
       "</table>\n",
       "</div>"
      ],
      "text/plain": [
       "                         benign  pathogenic  other\n",
       ".                         26007        1302   5634\n",
       "unknown                     925       15701   4459\n",
       "nonframeshift deletion      527         651   2601\n",
       "nonframeshift insertion     338         115    950\n",
       "frameshift deletion         196       15650   1473\n",
       "frameshift insertion         91        7047    709\n",
       "stopgain                     27        1612    135\n",
       "stoploss                      4          54     25\n",
       "startloss                     4          33     10"
      ]
     },
     "execution_count": 27,
     "metadata": {},
     "output_type": "execute_result"
    }
   ],
   "source": [
    "exon_func_sta=pd.concat([\n",
    "    pd.DataFrame(total[total['tag']==0]['ExonicFunc.refGene'].value_counts()),\n",
    "    pd.DataFrame(total[total['tag']==1]['ExonicFunc.refGene'].value_counts()),\n",
    "    pd.DataFrame(total[total['tag']==-9]['ExonicFunc.refGene'].value_counts()),\n",
    "],axis=1)\n",
    "exon_func_sta.columns=['benign','pathogenic','other']\n",
    "for column in exon_func_sta.columns:\n",
    "    exon_func_sta[column].fillna(0, inplace=True)\n",
    "exon_func_sta"
   ]
  },
  {
   "cell_type": "code",
   "execution_count": 20,
   "metadata": {
    "collapsed": false,
    "execution": {
     "iopub.execute_input": "2023-12-27T11:54:49.530943Z",
     "iopub.status.busy": "2023-12-27T11:54:49.530187Z",
     "iopub.status.idle": "2023-12-27T11:54:53.928722Z",
     "shell.execute_reply": "2023-12-27T11:54:53.927828Z",
     "shell.execute_reply.started": "2023-12-27T11:54:49.530887Z"
    },
    "jupyter": {
     "outputs_hidden": false
    },
    "pycharm": {
     "name": "#%%\n"
    },
    "tags": []
   },
   "outputs": [
    {
     "ename": "NameError",
     "evalue": "name 'exon_func_sta' is not defined",
     "output_type": "error",
     "traceback": [
      "\u001b[0;31m---------------------------------------------------------------------------\u001b[0m",
      "\u001b[0;31mNameError\u001b[0m                                 Traceback (most recent call last)",
      "Cell \u001b[0;32mIn[20], line 1\u001b[0m\n\u001b[0;32m----> 1\u001b[0m positive_id \u001b[38;5;241m=\u001b[39m \u001b[43mexon_func_sta\u001b[49m\n\u001b[1;32m      2\u001b[0m plt\u001b[38;5;241m.\u001b[39mscatter(\u001b[38;5;124m'\u001b[39m\u001b[38;5;124mother\u001b[39m\u001b[38;5;124m'\u001b[39m,\u001b[38;5;124m'\u001b[39m\u001b[38;5;124mbenign\u001b[39m\u001b[38;5;124m'\u001b[39m,data\u001b[38;5;241m=\u001b[39mpositive_id)\n\u001b[1;32m      3\u001b[0m sns\u001b[38;5;241m.\u001b[39mregplot(\u001b[38;5;124m'\u001b[39m\u001b[38;5;124mother\u001b[39m\u001b[38;5;124m'\u001b[39m,\u001b[38;5;124m'\u001b[39m\u001b[38;5;124mbenign\u001b[39m\u001b[38;5;124m'\u001b[39m,data\u001b[38;5;241m=\u001b[39mpositive_id,order\u001b[38;5;241m=\u001b[39m\u001b[38;5;241m1\u001b[39m,ci\u001b[38;5;241m=\u001b[39m\u001b[38;5;28;01mNone\u001b[39;00m,\n\u001b[1;32m      4\u001b[0m                 scatter\u001b[38;5;241m=\u001b[39m\u001b[38;5;28;01mFalse\u001b[39;00m,)\n",
      "\u001b[0;31mNameError\u001b[0m: name 'exon_func_sta' is not defined"
     ]
    }
   ],
   "source": [
    "positive_id = exon_func_sta\n",
    "plt.scatter('other','benign',data=positive_id)\n",
    "sns.regplot('other','benign',data=positive_id,order=1,ci=None,\n",
    "                scatter=False,)\n",
    "plt.scatter('other','pathogenic',data=positive_id,alpha=0.2)\n",
    "sns.regplot('other','pathogenic',data=positive_id,order=1,ci=None,\n",
    "                scatter=False,)\n",
    "plt.legend(loc='upper left')\n",
    "plt.ylabel('number of benign/pathogenic INDEL')\n",
    "plt.xlabel('number of other INDEL')\n",
    "plt.xlim(-1,)\n",
    "plt.ylim(-1,)\n",
    "\n",
    "plt.savefig(f\"../final_fig/ols_exonfunc_{loca}.pdf\", format=\"pdf\", dpi=1000, bbox_inches='tight')\n",
    "sns.despine()"
   ]
  },
  {
   "cell_type": "code",
   "execution_count": 28,
   "metadata": {
    "collapsed": false,
    "execution": {
     "iopub.execute_input": "2024-01-12T02:11:03.227114Z",
     "iopub.status.busy": "2024-01-12T02:11:03.226620Z",
     "iopub.status.idle": "2024-01-12T02:11:09.945979Z",
     "shell.execute_reply": "2024-01-12T02:11:09.944789Z",
     "shell.execute_reply.started": "2024-01-12T02:11:03.227083Z"
    },
    "jupyter": {
     "outputs_hidden": false
    },
    "pycharm": {
     "name": "#%%\n"
    },
    "tags": []
   },
   "outputs": [],
   "source": [
    "\n",
    "from statsmodels.formula.api import ols\n",
    "lm = ols('benign ~ other ', data=func_sta).fit()\n",
    "stud_res = lm.outlier_test()\n",
    "dic_func_b = dict(zip(stud_res.index,stud_res['student_resid']))\n",
    "\n",
    "lm = ols('pathogenic ~ other ', data=func_sta).fit()\n",
    "stud_res = lm.outlier_test()\n",
    "dic_func_p = dict(zip(stud_res.index,stud_res['student_resid']))\n",
    "\n",
    "lm = ols('benign ~ other ', data=exon_func_sta).fit()\n",
    "stud_res = lm.outlier_test()\n",
    "dic_exon_func_b = dict(zip(stud_res.index,stud_res['student_resid']))\n",
    "\n",
    "lm = ols('pathogenic ~ other ', data=exon_func_sta).fit()\n",
    "stud_res = lm.outlier_test()\n",
    "dic_exon_func_p = dict(zip(stud_res.index,stud_res['student_resid']))"
   ]
  },
  {
   "cell_type": "code",
   "execution_count": 29,
   "metadata": {
    "execution": {
     "iopub.execute_input": "2023-12-26T07:23:36.467274Z",
     "iopub.status.busy": "2023-12-26T07:23:36.466566Z",
     "iopub.status.idle": "2023-12-26T07:23:36.822386Z",
     "shell.execute_reply": "2023-12-26T07:23:36.821140Z",
     "shell.execute_reply.started": "2023-12-26T07:23:36.467228Z"
    },
    "tags": []
   },
   "outputs": [],
   "source": [
    "\n",
    "save_data([P_ig_pivot_Func, P_ig_pivot_exonicFunc, dic_func_b, dic_func_p, dic_exon_func_b, dic_exon_func_p], f\"../data2023/func_feature_{loca}.pkl\")\n"
   ]
  },
  {
   "cell_type": "code",
   "execution_count": 29,
   "metadata": {
    "collapsed": false,
    "execution": {
     "iopub.execute_input": "2024-01-12T02:11:14.118354Z",
     "iopub.status.busy": "2024-01-12T02:11:14.117650Z",
     "iopub.status.idle": "2024-01-12T02:11:14.459495Z",
     "shell.execute_reply": "2024-01-12T02:11:14.458757Z",
     "shell.execute_reply.started": "2024-01-12T02:11:14.118306Z"
    },
    "jupyter": {
     "outputs_hidden": false
    },
    "pycharm": {
     "name": "#%%\n"
    },
    "tags": []
   },
   "outputs": [
    {
     "data": {
      "text/html": [
       "<div>\n",
       "<style scoped>\n",
       "    .dataframe tbody tr th:only-of-type {\n",
       "        vertical-align: middle;\n",
       "    }\n",
       "\n",
       "    .dataframe tbody tr th {\n",
       "        vertical-align: top;\n",
       "    }\n",
       "\n",
       "    .dataframe thead th {\n",
       "        text-align: right;\n",
       "    }\n",
       "</style>\n",
       "<table border=\"1\" class=\"dataframe\">\n",
       "  <thead>\n",
       "    <tr style=\"text-align: right;\">\n",
       "      <th></th>\n",
       "      <th>Chr</th>\n",
       "      <th>Start</th>\n",
       "      <th>End</th>\n",
       "      <th>Ref</th>\n",
       "      <th>Alt</th>\n",
       "      <th>Func.refGene</th>\n",
       "      <th>Gene.refGene</th>\n",
       "      <th>GeneDetail.refGene</th>\n",
       "      <th>ExonicFunc.refGene</th>\n",
       "      <th>AAChange.refGene</th>\n",
       "      <th>...</th>\n",
       "      <th>stopgain</th>\n",
       "      <th>stoploss</th>\n",
       "      <th>unknown</th>\n",
       "      <th>tag</th>\n",
       "      <th>Func_b</th>\n",
       "      <th>Func_p</th>\n",
       "      <th>Func</th>\n",
       "      <th>ExonicFunc_b</th>\n",
       "      <th>ExonicFunc_p</th>\n",
       "      <th>ExonicFunc</th>\n",
       "    </tr>\n",
       "  </thead>\n",
       "  <tbody>\n",
       "    <tr>\n",
       "      <th>0</th>\n",
       "      <td>1</td>\n",
       "      <td>865602</td>\n",
       "      <td>865607</td>\n",
       "      <td>GAACTC</td>\n",
       "      <td>TTCTTCTG</td>\n",
       "      <td>exonic</td>\n",
       "      <td>SAMD11</td>\n",
       "      <td>.</td>\n",
       "      <td>unknown</td>\n",
       "      <td>UNKNOWN</td>\n",
       "      <td>...</td>\n",
       "      <td>NaN</td>\n",
       "      <td>NaN</td>\n",
       "      <td>NaN</td>\n",
       "      <td>-9.0</td>\n",
       "      <td>-0.787253</td>\n",
       "      <td>35.493464</td>\n",
       "      <td>1</td>\n",
       "      <td>-2.898295</td>\n",
       "      <td>1.725787</td>\n",
       "      <td>11</td>\n",
       "    </tr>\n",
       "    <tr>\n",
       "      <th>1</th>\n",
       "      <td>1</td>\n",
       "      <td>871246</td>\n",
       "      <td>871246</td>\n",
       "      <td>-</td>\n",
       "      <td>GCAGCCTGGAGATTGGCCT</td>\n",
       "      <td>exonic</td>\n",
       "      <td>SAMD11</td>\n",
       "      <td>.</td>\n",
       "      <td>unknown</td>\n",
       "      <td>UNKNOWN</td>\n",
       "      <td>...</td>\n",
       "      <td>NaN</td>\n",
       "      <td>NaN</td>\n",
       "      <td>NaN</td>\n",
       "      <td>-9.0</td>\n",
       "      <td>-0.787253</td>\n",
       "      <td>35.493464</td>\n",
       "      <td>1</td>\n",
       "      <td>-2.898295</td>\n",
       "      <td>1.725787</td>\n",
       "      <td>11</td>\n",
       "    </tr>\n",
       "    <tr>\n",
       "      <th>2</th>\n",
       "      <td>1</td>\n",
       "      <td>874778</td>\n",
       "      <td>874778</td>\n",
       "      <td>-</td>\n",
       "      <td>CCTCCCCAGCCACGGTGAGGACCCACCCTGGCATGATCCCCCTCATCA</td>\n",
       "      <td>exonic</td>\n",
       "      <td>SAMD11</td>\n",
       "      <td>.</td>\n",
       "      <td>unknown</td>\n",
       "      <td>UNKNOWN</td>\n",
       "      <td>...</td>\n",
       "      <td>NaN</td>\n",
       "      <td>NaN</td>\n",
       "      <td>NaN</td>\n",
       "      <td>0.0</td>\n",
       "      <td>-0.787253</td>\n",
       "      <td>35.493464</td>\n",
       "      <td>1</td>\n",
       "      <td>-2.898295</td>\n",
       "      <td>1.725787</td>\n",
       "      <td>11</td>\n",
       "    </tr>\n",
       "    <tr>\n",
       "      <th>3</th>\n",
       "      <td>1</td>\n",
       "      <td>874778</td>\n",
       "      <td>874778</td>\n",
       "      <td>-</td>\n",
       "      <td>CCTCCCCAGCCACGGTGAGGACCCACCCTGGCATGATCCCCCTCAT...</td>\n",
       "      <td>exonic</td>\n",
       "      <td>SAMD11</td>\n",
       "      <td>.</td>\n",
       "      <td>unknown</td>\n",
       "      <td>UNKNOWN</td>\n",
       "      <td>...</td>\n",
       "      <td>NaN</td>\n",
       "      <td>NaN</td>\n",
       "      <td>NaN</td>\n",
       "      <td>0.0</td>\n",
       "      <td>-0.787253</td>\n",
       "      <td>35.493464</td>\n",
       "      <td>1</td>\n",
       "      <td>-2.898295</td>\n",
       "      <td>1.725787</td>\n",
       "      <td>11</td>\n",
       "    </tr>\n",
       "    <tr>\n",
       "      <th>4</th>\n",
       "      <td>1</td>\n",
       "      <td>874779</td>\n",
       "      <td>874826</td>\n",
       "      <td>CCTCCCCAGCCACGGTGAGGACCCACCCTGGCATGATCCCCCTCATCA</td>\n",
       "      <td>-</td>\n",
       "      <td>exonic</td>\n",
       "      <td>SAMD11</td>\n",
       "      <td>.</td>\n",
       "      <td>unknown</td>\n",
       "      <td>UNKNOWN</td>\n",
       "      <td>...</td>\n",
       "      <td>NaN</td>\n",
       "      <td>NaN</td>\n",
       "      <td>NaN</td>\n",
       "      <td>0.0</td>\n",
       "      <td>-0.787253</td>\n",
       "      <td>35.493464</td>\n",
       "      <td>1</td>\n",
       "      <td>-2.898295</td>\n",
       "      <td>1.725787</td>\n",
       "      <td>11</td>\n",
       "    </tr>\n",
       "    <tr>\n",
       "      <th>...</th>\n",
       "      <td>...</td>\n",
       "      <td>...</td>\n",
       "      <td>...</td>\n",
       "      <td>...</td>\n",
       "      <td>...</td>\n",
       "      <td>...</td>\n",
       "      <td>...</td>\n",
       "      <td>...</td>\n",
       "      <td>...</td>\n",
       "      <td>...</td>\n",
       "      <td>...</td>\n",
       "      <td>...</td>\n",
       "      <td>...</td>\n",
       "      <td>...</td>\n",
       "      <td>...</td>\n",
       "      <td>...</td>\n",
       "      <td>...</td>\n",
       "      <td>...</td>\n",
       "      <td>...</td>\n",
       "      <td>...</td>\n",
       "      <td>...</td>\n",
       "    </tr>\n",
       "    <tr>\n",
       "      <th>86275</th>\n",
       "      <td>X</td>\n",
       "      <td>154490101</td>\n",
       "      <td>154490103</td>\n",
       "      <td>CTC</td>\n",
       "      <td>-</td>\n",
       "      <td>exonic</td>\n",
       "      <td>RAB39B</td>\n",
       "      <td>.</td>\n",
       "      <td>unknown</td>\n",
       "      <td>UNKNOWN</td>\n",
       "      <td>...</td>\n",
       "      <td>NaN</td>\n",
       "      <td>NaN</td>\n",
       "      <td>NaN</td>\n",
       "      <td>-9.0</td>\n",
       "      <td>-0.787253</td>\n",
       "      <td>35.493464</td>\n",
       "      <td>1</td>\n",
       "      <td>-2.898295</td>\n",
       "      <td>1.725787</td>\n",
       "      <td>11</td>\n",
       "    </tr>\n",
       "    <tr>\n",
       "      <th>86276</th>\n",
       "      <td>X</td>\n",
       "      <td>154490633</td>\n",
       "      <td>154490633</td>\n",
       "      <td>-</td>\n",
       "      <td>T</td>\n",
       "      <td>intronic</td>\n",
       "      <td>RAB39B</td>\n",
       "      <td>.</td>\n",
       "      <td>.</td>\n",
       "      <td>.</td>\n",
       "      <td>...</td>\n",
       "      <td>NaN</td>\n",
       "      <td>NaN</td>\n",
       "      <td>NaN</td>\n",
       "      <td>0.0</td>\n",
       "      <td>24.763294</td>\n",
       "      <td>-0.606064</td>\n",
       "      <td>4</td>\n",
       "      <td>217.741516</td>\n",
       "      <td>-1.831591</td>\n",
       "      <td>12</td>\n",
       "    </tr>\n",
       "    <tr>\n",
       "      <th>86277</th>\n",
       "      <td>X</td>\n",
       "      <td>154736592</td>\n",
       "      <td>154736593</td>\n",
       "      <td>AT</td>\n",
       "      <td>-</td>\n",
       "      <td>exonic</td>\n",
       "      <td>TMLHE</td>\n",
       "      <td>.</td>\n",
       "      <td>frameshift deletion</td>\n",
       "      <td>TMLHE:NM_001184797:exon6:c.961_962del:p.V321Lf...</td>\n",
       "      <td>...</td>\n",
       "      <td>NaN</td>\n",
       "      <td>NaN</td>\n",
       "      <td>NaN</td>\n",
       "      <td>1.0</td>\n",
       "      <td>-0.787253</td>\n",
       "      <td>35.493464</td>\n",
       "      <td>1</td>\n",
       "      <td>-0.315698</td>\n",
       "      <td>2.222442</td>\n",
       "      <td>2</td>\n",
       "    </tr>\n",
       "    <tr>\n",
       "      <th>86278</th>\n",
       "      <td>Y</td>\n",
       "      <td>2655075</td>\n",
       "      <td>2655075</td>\n",
       "      <td>G</td>\n",
       "      <td>-</td>\n",
       "      <td>exonic</td>\n",
       "      <td>SRY</td>\n",
       "      <td>.</td>\n",
       "      <td>frameshift deletion</td>\n",
       "      <td>SRY:NM_003140:exon1:c.570delG:p.K190fs</td>\n",
       "      <td>...</td>\n",
       "      <td>NaN</td>\n",
       "      <td>NaN</td>\n",
       "      <td>NaN</td>\n",
       "      <td>-9.0</td>\n",
       "      <td>-0.787253</td>\n",
       "      <td>35.493464</td>\n",
       "      <td>1</td>\n",
       "      <td>-0.315698</td>\n",
       "      <td>2.222442</td>\n",
       "      <td>2</td>\n",
       "    </tr>\n",
       "    <tr>\n",
       "      <th>86279</th>\n",
       "      <td>Y</td>\n",
       "      <td>2655380</td>\n",
       "      <td>2655380</td>\n",
       "      <td>-</td>\n",
       "      <td>T</td>\n",
       "      <td>exonic</td>\n",
       "      <td>SRY</td>\n",
       "      <td>.</td>\n",
       "      <td>frameshift insertion</td>\n",
       "      <td>SRY:NM_003140:exon1:c.264_265insA:p.C89fs</td>\n",
       "      <td>...</td>\n",
       "      <td>NaN</td>\n",
       "      <td>NaN</td>\n",
       "      <td>NaN</td>\n",
       "      <td>1.0</td>\n",
       "      <td>-0.787253</td>\n",
       "      <td>35.493464</td>\n",
       "      <td>1</td>\n",
       "      <td>0.037882</td>\n",
       "      <td>0.516542</td>\n",
       "      <td>1</td>\n",
       "    </tr>\n",
       "  </tbody>\n",
       "</table>\n",
       "<p>86280 rows × 90 columns</p>\n",
       "</div>"
      ],
      "text/plain": [
       "      Chr      Start        End  \\\n",
       "0       1     865602     865607   \n",
       "1       1     871246     871246   \n",
       "2       1     874778     874778   \n",
       "3       1     874778     874778   \n",
       "4       1     874779     874826   \n",
       "...    ..        ...        ...   \n",
       "86275   X  154490101  154490103   \n",
       "86276   X  154490633  154490633   \n",
       "86277   X  154736592  154736593   \n",
       "86278   Y    2655075    2655075   \n",
       "86279   Y    2655380    2655380   \n",
       "\n",
       "                                                    Ref  \\\n",
       "0                                                GAACTC   \n",
       "1                                                     -   \n",
       "2                                                     -   \n",
       "3                                                     -   \n",
       "4      CCTCCCCAGCCACGGTGAGGACCCACCCTGGCATGATCCCCCTCATCA   \n",
       "...                                                 ...   \n",
       "86275                                               CTC   \n",
       "86276                                                 -   \n",
       "86277                                                AT   \n",
       "86278                                                 G   \n",
       "86279                                                 -   \n",
       "\n",
       "                                                     Alt Func.refGene  \\\n",
       "0                                               TTCTTCTG       exonic   \n",
       "1                                    GCAGCCTGGAGATTGGCCT       exonic   \n",
       "2       CCTCCCCAGCCACGGTGAGGACCCACCCTGGCATGATCCCCCTCATCA       exonic   \n",
       "3      CCTCCCCAGCCACGGTGAGGACCCACCCTGGCATGATCCCCCTCAT...       exonic   \n",
       "4                                                      -       exonic   \n",
       "...                                                  ...          ...   \n",
       "86275                                                  -       exonic   \n",
       "86276                                                  T     intronic   \n",
       "86277                                                  -       exonic   \n",
       "86278                                                  -       exonic   \n",
       "86279                                                  T       exonic   \n",
       "\n",
       "      Gene.refGene GeneDetail.refGene    ExonicFunc.refGene  \\\n",
       "0           SAMD11                  .               unknown   \n",
       "1           SAMD11                  .               unknown   \n",
       "2           SAMD11                  .               unknown   \n",
       "3           SAMD11                  .               unknown   \n",
       "4           SAMD11                  .               unknown   \n",
       "...            ...                ...                   ...   \n",
       "86275       RAB39B                  .               unknown   \n",
       "86276       RAB39B                  .                     .   \n",
       "86277        TMLHE                  .   frameshift deletion   \n",
       "86278          SRY                  .   frameshift deletion   \n",
       "86279          SRY                  .  frameshift insertion   \n",
       "\n",
       "                                        AAChange.refGene  ... stopgain  \\\n",
       "0                                                UNKNOWN  ...      NaN   \n",
       "1                                                UNKNOWN  ...      NaN   \n",
       "2                                                UNKNOWN  ...      NaN   \n",
       "3                                                UNKNOWN  ...      NaN   \n",
       "4                                                UNKNOWN  ...      NaN   \n",
       "...                                                  ...  ...      ...   \n",
       "86275                                            UNKNOWN  ...      NaN   \n",
       "86276                                                  .  ...      NaN   \n",
       "86277  TMLHE:NM_001184797:exon6:c.961_962del:p.V321Lf...  ...      NaN   \n",
       "86278             SRY:NM_003140:exon1:c.570delG:p.K190fs  ...      NaN   \n",
       "86279          SRY:NM_003140:exon1:c.264_265insA:p.C89fs  ...      NaN   \n",
       "\n",
       "      stoploss unknown  tag     Func_b     Func_p Func ExonicFunc_b  \\\n",
       "0          NaN     NaN -9.0  -0.787253  35.493464    1    -2.898295   \n",
       "1          NaN     NaN -9.0  -0.787253  35.493464    1    -2.898295   \n",
       "2          NaN     NaN  0.0  -0.787253  35.493464    1    -2.898295   \n",
       "3          NaN     NaN  0.0  -0.787253  35.493464    1    -2.898295   \n",
       "4          NaN     NaN  0.0  -0.787253  35.493464    1    -2.898295   \n",
       "...        ...     ...  ...        ...        ...  ...          ...   \n",
       "86275      NaN     NaN -9.0  -0.787253  35.493464    1    -2.898295   \n",
       "86276      NaN     NaN  0.0  24.763294  -0.606064    4   217.741516   \n",
       "86277      NaN     NaN  1.0  -0.787253  35.493464    1    -0.315698   \n",
       "86278      NaN     NaN -9.0  -0.787253  35.493464    1    -0.315698   \n",
       "86279      NaN     NaN  1.0  -0.787253  35.493464    1     0.037882   \n",
       "\n",
       "      ExonicFunc_p ExonicFunc  \n",
       "0         1.725787         11  \n",
       "1         1.725787         11  \n",
       "2         1.725787         11  \n",
       "3         1.725787         11  \n",
       "4         1.725787         11  \n",
       "...            ...        ...  \n",
       "86275     1.725787         11  \n",
       "86276    -1.831591         12  \n",
       "86277     2.222442          2  \n",
       "86278     2.222442          2  \n",
       "86279     0.516542          1  \n",
       "\n",
       "[86280 rows x 90 columns]"
      ]
     },
     "execution_count": 29,
     "metadata": {},
     "output_type": "execute_result"
    }
   ],
   "source": [
    "def func_replace(data):\n",
    "    data['Func_b'] = data['Func.refGene'].replace(dic_func_b)\n",
    "    data['Func_p'] = data['Func.refGene'].replace(dic_func_p)\n",
    "    data['Func'] = data['Func.refGene'].replace(dict_gene1)\n",
    "    data['ExonicFunc_b'] = data['ExonicFunc.refGene'].replace(dic_exon_func_b)\n",
    "    data['ExonicFunc_p'] = data['ExonicFunc.refGene'].replace(dic_exon_func_p)\n",
    "    data['ExonicFunc'] = data['ExonicFunc.refGene'].replace(dict_gene2)\n",
    "    return data\n",
    "func_replace(total)"
   ]
  },
  {
   "cell_type": "code",
   "execution_count": 30,
   "metadata": {
    "collapsed": false,
    "execution": {
     "iopub.execute_input": "2024-01-12T02:11:21.270526Z",
     "iopub.status.busy": "2024-01-12T02:11:21.269974Z",
     "iopub.status.idle": "2024-01-12T02:11:21.289406Z",
     "shell.execute_reply": "2024-01-12T02:11:21.288137Z",
     "shell.execute_reply.started": "2024-01-12T02:11:21.270474Z"
    },
    "jupyter": {
     "outputs_hidden": false
    },
    "pycharm": {
     "name": "#%%\n"
    },
    "tags": []
   },
   "outputs": [],
   "source": [
    "total = total.loc[:,columns_list]"
   ]
  },
  {
   "cell_type": "code",
   "execution_count": 31,
   "metadata": {
    "collapsed": false,
    "execution": {
     "iopub.execute_input": "2024-01-12T02:12:27.295099Z",
     "iopub.status.busy": "2024-01-12T02:12:27.294001Z",
     "iopub.status.idle": "2024-01-12T02:12:27.463268Z",
     "shell.execute_reply": "2024-01-12T02:12:27.462486Z",
     "shell.execute_reply.started": "2024-01-12T02:12:27.295046Z"
    },
    "jupyter": {
     "outputs_hidden": false
    },
    "pycharm": {
     "name": "#%%\n"
    },
    "tags": []
   },
   "outputs": [],
   "source": [
    "train_data = total.loc[total['tag'].isin([0, 1]),]\n",
    "train_data.columns= rename_col\n",
    "train_data = train_data.replace('.', np.nan)\n",
    "\n",
    "for column in train_data.columns[7:]:\n",
    "    train_data[column] = pd.to_numeric(train_data[column])\n",
    "    train_data[column].fillna(0, inplace=True)\n",
    "    "
   ]
  },
  {
   "cell_type": "code",
   "execution_count": 32,
   "metadata": {
    "collapsed": false,
    "execution": {
     "iopub.execute_input": "2024-01-12T02:12:45.703826Z",
     "iopub.status.busy": "2024-01-12T02:12:45.703052Z",
     "iopub.status.idle": "2024-01-12T02:12:45.824663Z",
     "shell.execute_reply": "2024-01-12T02:12:45.823450Z",
     "shell.execute_reply.started": "2024-01-12T02:12:45.703761Z"
    },
    "jupyter": {
     "outputs_hidden": false
    },
    "pycharm": {
     "name": "#%%\n"
    },
    "tags": []
   },
   "outputs": [],
   "source": [
    "x_train = train_data.iloc[:, 7:]\n",
    "y_train = train_data['tag']\n",
    "x_train = x_train.drop(['tag'], axis=1)\n",
    "save_data([x_train, y_train], f'../data2023/train_{loca}.pkl')"
   ]
  },
  {
   "cell_type": "code",
   "execution_count": 35,
   "metadata": {
    "execution": {
     "iopub.execute_input": "2024-01-12T02:19:49.732272Z",
     "iopub.status.busy": "2024-01-12T02:19:49.731495Z",
     "iopub.status.idle": "2024-01-12T02:20:13.861643Z",
     "shell.execute_reply": "2024-01-12T02:20:13.860276Z",
     "shell.execute_reply.started": "2024-01-12T02:19:49.732220Z"
    },
    "tags": []
   },
   "outputs": [],
   "source": [
    "%run 1_INDELpred_train_231008.py"
   ]
  },
  {
   "cell_type": "markdown",
   "metadata": {
    "jp-MarkdownHeadingCollapsed": true,
    "jupyter": {
     "outputs_hidden": false
    },
    "tags": []
   },
   "source": [
    "# ClinVarTest"
   ]
  },
  {
   "cell_type": "code",
   "execution_count": 12,
   "metadata": {
    "collapsed": false,
    "execution": {
     "iopub.execute_input": "2024-01-12T06:47:34.353512Z",
     "iopub.status.busy": "2024-01-12T06:47:34.352726Z",
     "iopub.status.idle": "2024-01-12T06:47:36.391498Z",
     "shell.execute_reply": "2024-01-12T06:47:36.390725Z",
     "shell.execute_reply.started": "2024-01-12T06:47:34.353463Z"
    },
    "jupyter": {
     "outputs_hidden": false
    },
    "pycharm": {
     "name": "#%%\n"
    },
    "tags": []
   },
   "outputs": [
    {
     "name": "stderr",
     "output_type": "stream",
     "text": [
      "/tmp/ipykernel_42667/1499244390.py:2: DtypeWarning: Columns (0,55) have mixed types. Specify dtype option on import or set low_memory=False.\n",
      "  total = pd.read_table(test1_path)\n"
     ]
    }
   ],
   "source": [
    "test1_path = '../database/clinvar_20230806_indel_no_train.hg19_multianno.txt'\n",
    "total = pd.read_table(test1_path)"
   ]
  },
  {
   "cell_type": "code",
   "execution_count": 13,
   "metadata": {
    "collapsed": false,
    "execution": {
     "iopub.execute_input": "2024-01-12T06:47:36.393757Z",
     "iopub.status.busy": "2024-01-12T06:47:36.393384Z",
     "iopub.status.idle": "2024-01-12T06:47:37.182638Z",
     "shell.execute_reply": "2024-01-12T06:47:37.181840Z",
     "shell.execute_reply.started": "2024-01-12T06:47:36.393735Z"
    },
    "jupyter": {
     "outputs_hidden": false
    },
    "pycharm": {
     "name": "#%%\n"
    },
    "tags": []
   },
   "outputs": [],
   "source": [
    "# 提取特征\n",
    "total['CLNREVSTAT'] = total['Otherinfo11'].str.extract(r'CLNREVSTAT=(.*?);')\n",
    "total['CLNSIG'] = total['Otherinfo11'].str.extract(r'CLNSIG=(.*?);')\n",
    "total = process_dataframe(total)"
   ]
  },
  {
   "cell_type": "code",
   "execution_count": 14,
   "metadata": {
    "execution": {
     "iopub.execute_input": "2024-01-12T06:47:37.218223Z",
     "iopub.status.busy": "2024-01-12T06:47:37.217875Z",
     "iopub.status.idle": "2024-01-12T06:47:37.880898Z",
     "shell.execute_reply": "2024-01-12T06:47:37.879652Z",
     "shell.execute_reply.started": "2024-01-12T06:47:37.218199Z"
    },
    "tags": []
   },
   "outputs": [],
   "source": [
    "total = compute_func_score(total)"
   ]
  },
  {
   "cell_type": "code",
   "execution_count": 15,
   "metadata": {
    "collapsed": false,
    "execution": {
     "iopub.execute_input": "2024-01-12T06:47:37.882583Z",
     "iopub.status.busy": "2024-01-12T06:47:37.882329Z",
     "iopub.status.idle": "2024-01-12T06:47:37.912459Z",
     "shell.execute_reply": "2024-01-12T06:47:37.911368Z",
     "shell.execute_reply.started": "2024-01-12T06:47:37.882553Z"
    },
    "jupyter": {
     "outputs_hidden": false
    },
    "pycharm": {
     "name": "#%%\n"
    },
    "tags": []
   },
   "outputs": [],
   "source": [
    "p_list=['Pathogenic','Likely_pathogenic','Pathogenic/Likely_pathogenic']\n",
    "b_list=['Benign','Likely_benign','Benign/Likely_benign']\n",
    "total.loc[total['CLNSIG'].isin(p_list),'tag']=1\n",
    "total.loc[total['CLNSIG'].isin(b_list),'tag']=0\n",
    "total['tag'].fillna(-9, inplace=True)"
   ]
  },
  {
   "cell_type": "code",
   "execution_count": 16,
   "metadata": {
    "collapsed": false,
    "execution": {
     "iopub.execute_input": "2024-01-12T06:47:37.914327Z",
     "iopub.status.busy": "2024-01-12T06:47:37.913908Z",
     "iopub.status.idle": "2024-01-12T06:47:38.190339Z",
     "shell.execute_reply": "2024-01-12T06:47:38.189307Z",
     "shell.execute_reply.started": "2024-01-12T06:47:37.914295Z"
    },
    "jupyter": {
     "outputs_hidden": false
    },
    "pycharm": {
     "name": "#%%\n"
    },
    "tags": []
   },
   "outputs": [
    {
     "data": {
      "text/html": [
       "<div>\n",
       "<style scoped>\n",
       "    .dataframe tbody tr th:only-of-type {\n",
       "        vertical-align: middle;\n",
       "    }\n",
       "\n",
       "    .dataframe tbody tr th {\n",
       "        vertical-align: top;\n",
       "    }\n",
       "\n",
       "    .dataframe thead th {\n",
       "        text-align: right;\n",
       "    }\n",
       "</style>\n",
       "<table border=\"1\" class=\"dataframe\">\n",
       "  <thead>\n",
       "    <tr style=\"text-align: right;\">\n",
       "      <th></th>\n",
       "      <th>Chr</th>\n",
       "      <th>Start</th>\n",
       "      <th>End</th>\n",
       "      <th>Ref</th>\n",
       "      <th>Alt</th>\n",
       "      <th>Func.refGene</th>\n",
       "      <th>Gene.refGene</th>\n",
       "      <th>GeneDetail.refGene</th>\n",
       "      <th>ExonicFunc.refGene</th>\n",
       "      <th>AAChange.refGene</th>\n",
       "      <th>...</th>\n",
       "      <th>stopgain</th>\n",
       "      <th>stoploss</th>\n",
       "      <th>unknown</th>\n",
       "      <th>tag</th>\n",
       "      <th>Func_b</th>\n",
       "      <th>Func_p</th>\n",
       "      <th>Func</th>\n",
       "      <th>ExonicFunc_b</th>\n",
       "      <th>ExonicFunc_p</th>\n",
       "      <th>ExonicFunc</th>\n",
       "    </tr>\n",
       "  </thead>\n",
       "  <tbody>\n",
       "    <tr>\n",
       "      <th>0</th>\n",
       "      <td>1</td>\n",
       "      <td>865517</td>\n",
       "      <td>865519</td>\n",
       "      <td>CTC</td>\n",
       "      <td>-</td>\n",
       "      <td>intronic</td>\n",
       "      <td>SAMD11</td>\n",
       "      <td>.</td>\n",
       "      <td>.</td>\n",
       "      <td>.</td>\n",
       "      <td>...</td>\n",
       "      <td>0.000000</td>\n",
       "      <td>0.000000</td>\n",
       "      <td>0.000000</td>\n",
       "      <td>0.0</td>\n",
       "      <td>24.777888</td>\n",
       "      <td>-0.601432</td>\n",
       "      <td>4</td>\n",
       "      <td>218.599959</td>\n",
       "      <td>-1.831600</td>\n",
       "      <td>12</td>\n",
       "    </tr>\n",
       "    <tr>\n",
       "      <th>1</th>\n",
       "      <td>1</td>\n",
       "      <td>865591</td>\n",
       "      <td>865593</td>\n",
       "      <td>GAA</td>\n",
       "      <td>-</td>\n",
       "      <td>exonic</td>\n",
       "      <td>SAMD11</td>\n",
       "      <td>.</td>\n",
       "      <td>unknown</td>\n",
       "      <td>UNKNOWN</td>\n",
       "      <td>...</td>\n",
       "      <td>0.070658</td>\n",
       "      <td>0.008043</td>\n",
       "      <td>0.191249</td>\n",
       "      <td>-9.0</td>\n",
       "      <td>-0.780927</td>\n",
       "      <td>35.482988</td>\n",
       "      <td>1</td>\n",
       "      <td>-2.902486</td>\n",
       "      <td>1.728532</td>\n",
       "      <td>11</td>\n",
       "    </tr>\n",
       "    <tr>\n",
       "      <th>2</th>\n",
       "      <td>1</td>\n",
       "      <td>865709</td>\n",
       "      <td>865710</td>\n",
       "      <td>AA</td>\n",
       "      <td>-</td>\n",
       "      <td>exonic</td>\n",
       "      <td>SAMD11</td>\n",
       "      <td>.</td>\n",
       "      <td>unknown</td>\n",
       "      <td>UNKNOWN</td>\n",
       "      <td>...</td>\n",
       "      <td>0.070658</td>\n",
       "      <td>0.008043</td>\n",
       "      <td>0.191249</td>\n",
       "      <td>-9.0</td>\n",
       "      <td>-0.780927</td>\n",
       "      <td>35.482988</td>\n",
       "      <td>1</td>\n",
       "      <td>-2.902486</td>\n",
       "      <td>1.728532</td>\n",
       "      <td>11</td>\n",
       "    </tr>\n",
       "    <tr>\n",
       "      <th>3</th>\n",
       "      <td>1</td>\n",
       "      <td>871225</td>\n",
       "      <td>871225</td>\n",
       "      <td>-</td>\n",
       "      <td>GCC</td>\n",
       "      <td>exonic</td>\n",
       "      <td>SAMD11</td>\n",
       "      <td>.</td>\n",
       "      <td>unknown</td>\n",
       "      <td>UNKNOWN</td>\n",
       "      <td>...</td>\n",
       "      <td>0.070658</td>\n",
       "      <td>0.008043</td>\n",
       "      <td>0.191249</td>\n",
       "      <td>-9.0</td>\n",
       "      <td>-0.780927</td>\n",
       "      <td>35.482988</td>\n",
       "      <td>1</td>\n",
       "      <td>-2.902486</td>\n",
       "      <td>1.728532</td>\n",
       "      <td>11</td>\n",
       "    </tr>\n",
       "    <tr>\n",
       "      <th>4</th>\n",
       "      <td>1</td>\n",
       "      <td>871290</td>\n",
       "      <td>871316</td>\n",
       "      <td>GGGGCCTGAGGGCGGGGTCGGGGCTGT</td>\n",
       "      <td>-</td>\n",
       "      <td>intronic</td>\n",
       "      <td>SAMD11</td>\n",
       "      <td>.</td>\n",
       "      <td>.</td>\n",
       "      <td>.</td>\n",
       "      <td>...</td>\n",
       "      <td>0.000000</td>\n",
       "      <td>0.000000</td>\n",
       "      <td>0.000000</td>\n",
       "      <td>0.0</td>\n",
       "      <td>24.777888</td>\n",
       "      <td>-0.601432</td>\n",
       "      <td>4</td>\n",
       "      <td>218.599959</td>\n",
       "      <td>-1.831600</td>\n",
       "      <td>12</td>\n",
       "    </tr>\n",
       "  </tbody>\n",
       "</table>\n",
       "<p>5 rows × 90 columns</p>\n",
       "</div>"
      ],
      "text/plain": [
       "  Chr   Start     End                          Ref  Alt Func.refGene  \\\n",
       "0   1  865517  865519                          CTC    -     intronic   \n",
       "1   1  865591  865593                          GAA    -       exonic   \n",
       "2   1  865709  865710                           AA    -       exonic   \n",
       "3   1  871225  871225                            -  GCC       exonic   \n",
       "4   1  871290  871316  GGGGCCTGAGGGCGGGGTCGGGGCTGT    -     intronic   \n",
       "\n",
       "  Gene.refGene GeneDetail.refGene ExonicFunc.refGene AAChange.refGene  ...  \\\n",
       "0       SAMD11                  .                  .                .  ...   \n",
       "1       SAMD11                  .            unknown          UNKNOWN  ...   \n",
       "2       SAMD11                  .            unknown          UNKNOWN  ...   \n",
       "3       SAMD11                  .            unknown          UNKNOWN  ...   \n",
       "4       SAMD11                  .                  .                .  ...   \n",
       "\n",
       "   stopgain  stoploss   unknown  tag     Func_b     Func_p Func ExonicFunc_b  \\\n",
       "0  0.000000  0.000000  0.000000  0.0  24.777888  -0.601432    4   218.599959   \n",
       "1  0.070658  0.008043  0.191249 -9.0  -0.780927  35.482988    1    -2.902486   \n",
       "2  0.070658  0.008043  0.191249 -9.0  -0.780927  35.482988    1    -2.902486   \n",
       "3  0.070658  0.008043  0.191249 -9.0  -0.780927  35.482988    1    -2.902486   \n",
       "4  0.000000  0.000000  0.000000  0.0  24.777888  -0.601432    4   218.599959   \n",
       "\n",
       "  ExonicFunc_p ExonicFunc  \n",
       "0    -1.831600         12  \n",
       "1     1.728532         11  \n",
       "2     1.728532         11  \n",
       "3     1.728532         11  \n",
       "4    -1.831600         12  \n",
       "\n",
       "[5 rows x 90 columns]"
      ]
     },
     "execution_count": 16,
     "metadata": {},
     "output_type": "execute_result"
    }
   ],
   "source": [
    "func_replace(total)\n",
    "total.head()"
   ]
  },
  {
   "cell_type": "code",
   "execution_count": 17,
   "metadata": {
    "execution": {
     "iopub.execute_input": "2024-01-12T06:47:38.225819Z",
     "iopub.status.busy": "2024-01-12T06:47:38.225565Z",
     "iopub.status.idle": "2024-01-12T06:47:38.793077Z",
     "shell.execute_reply": "2024-01-12T06:47:38.792022Z",
     "shell.execute_reply.started": "2024-01-12T06:47:38.225788Z"
    },
    "tags": []
   },
   "outputs": [
    {
     "name": "stderr",
     "output_type": "stream",
     "text": [
      "/tmp/ipykernel_42667/3502338187.py:2: FutureWarning: The squeeze argument has been deprecated and will be removed in a future version. Append .squeeze(\"columns\") to the call to squeeze.\n",
      "\n",
      "\n",
      "  TSG = pd.read_csv('../database/TSG.gene', squeeze=True)\n",
      "/tmp/ipykernel_42667/3502338187.py:3: FutureWarning: The squeeze argument has been deprecated and will be removed in a future version. Append .squeeze(\"columns\") to the call to squeeze.\n",
      "\n",
      "\n",
      "  ONC = pd.read_csv('../database/ONC.gene', squeeze=True)\n"
     ]
    }
   ],
   "source": [
    "# 添加sub的列\n",
    "TSG = pd.read_csv('../database/TSG.gene', squeeze=True)\n",
    "ONC = pd.read_csv('../database/ONC.gene', squeeze=True)\n",
    "total['TumorGeneType'] = 'Other' \n",
    "total.loc[total['Gene.refGene'].isin(TSG), 'TumorGeneType'] = 'TSG'\n",
    "total.loc[total['Gene.refGene'].isin(ONC), 'TumorGeneType'] = 'ONC'"
   ]
  },
  {
   "cell_type": "code",
   "execution_count": 18,
   "metadata": {
    "execution": {
     "iopub.execute_input": "2024-01-12T06:47:42.553621Z",
     "iopub.status.busy": "2024-01-12T06:47:42.552919Z",
     "iopub.status.idle": "2024-01-12T06:47:43.016726Z",
     "shell.execute_reply": "2024-01-12T06:47:43.015919Z",
     "shell.execute_reply.started": "2024-01-12T06:47:42.553576Z"
    },
    "tags": []
   },
   "outputs": [],
   "source": [
    "# 添加sub的列\n",
    "grouped_tags = total.groupby('Gene.refGene')['tag'].unique()\n",
    "genes_with_both_tags = grouped_tags[grouped_tags.apply(lambda x: set(x) == {0, 1})].index\n",
    "total['SameGene'] = total['Gene.refGene'].apply(lambda x: 1 if x in genes_with_both_tags else 0)"
   ]
  },
  {
   "cell_type": "code",
   "execution_count": 19,
   "metadata": {
    "collapsed": false,
    "execution": {
     "iopub.execute_input": "2024-01-12T06:47:43.577545Z",
     "iopub.status.busy": "2024-01-12T06:47:43.576889Z",
     "iopub.status.idle": "2024-01-12T06:47:43.583853Z",
     "shell.execute_reply": "2024-01-12T06:47:43.582458Z",
     "shell.execute_reply.started": "2024-01-12T06:47:43.577504Z"
    },
    "jupyter": {
     "outputs_hidden": false
    },
    "pycharm": {
     "name": "#%%\n"
    },
    "tags": []
   },
   "outputs": [],
   "source": [
    "columns_list_plus = columns_list + ['CLNREVSTAT', 'TumorGeneType', 'SameGene']\n",
    "rename_col_plus = rename_col + ['star', 'TumorGeneType', 'SameGene']"
   ]
  },
  {
   "cell_type": "code",
   "execution_count": 20,
   "metadata": {
    "collapsed": false,
    "execution": {
     "iopub.execute_input": "2024-01-12T06:47:44.452286Z",
     "iopub.status.busy": "2024-01-12T06:47:44.451588Z",
     "iopub.status.idle": "2024-01-12T06:47:44.610788Z",
     "shell.execute_reply": "2024-01-12T06:47:44.609704Z",
     "shell.execute_reply.started": "2024-01-12T06:47:44.452241Z"
    },
    "jupyter": {
     "outputs_hidden": false
    },
    "pycharm": {
     "name": "#%%\n"
    },
    "tags": []
   },
   "outputs": [
    {
     "name": "stderr",
     "output_type": "stream",
     "text": [
      "/tmp/ipykernel_42667/1279167112.py:3: SettingWithCopyWarning: \n",
      "A value is trying to be set on a copy of a slice from a DataFrame\n",
      "\n",
      "See the caveats in the documentation: https://pandas.pydata.org/pandas-docs/stable/user_guide/indexing.html#returning-a-view-versus-a-copy\n",
      "  ClinVar['CLNREVSTAT'].replace(dict_CLNREVSTAT, inplace=True)\n"
     ]
    }
   ],
   "source": [
    "total = total.loc[:,columns_list_plus]\n",
    "ClinVar = total.loc[total['tag'].isin([0,1]),]\n",
    "ClinVar['CLNREVSTAT'].replace(dict_CLNREVSTAT, inplace=True)\n",
    "ClinVar.columns=rename_col_plus\n",
    "ClinVar = ClinVar.replace('.', np.nan)\n",
    "\n",
    "for column in ClinVar.columns[7:-2]:\n",
    "    ClinVar[column] = pd.to_numeric(ClinVar[column])\n",
    "    ClinVar[column].fillna(0, inplace=True)"
   ]
  },
  {
   "cell_type": "code",
   "execution_count": 21,
   "metadata": {
    "execution": {
     "iopub.execute_input": "2024-01-12T06:47:58.364816Z",
     "iopub.status.busy": "2024-01-12T06:47:58.364076Z",
     "iopub.status.idle": "2024-01-12T06:48:00.229846Z",
     "shell.execute_reply": "2024-01-12T06:48:00.228559Z",
     "shell.execute_reply.started": "2024-01-12T06:47:58.364763Z"
    },
    "tags": []
   },
   "outputs": [],
   "source": [
    "ClinVar.to_csv(f'../data2024/ClinVar_max_info_{loca}.csv', index=None)"
   ]
  },
  {
   "cell_type": "code",
   "execution_count": 22,
   "metadata": {
    "collapsed": false,
    "execution": {
     "iopub.execute_input": "2024-01-12T06:48:00.251433Z",
     "iopub.status.busy": "2024-01-12T06:48:00.251196Z",
     "iopub.status.idle": "2024-01-12T06:48:00.312847Z",
     "shell.execute_reply": "2024-01-12T06:48:00.311980Z",
     "shell.execute_reply.started": "2024-01-12T06:48:00.251411Z"
    },
    "jupyter": {
     "outputs_hidden": false
    },
    "pycharm": {
     "name": "#%%\n"
    },
    "tags": []
   },
   "outputs": [],
   "source": [
    "x_ClinVar = ClinVar.iloc[:, 7:-4]\n",
    "y_ClinVar = ClinVar['tag']\n",
    "save_data([x_ClinVar, y_ClinVar],f'../data2024/ClinVar_test_{loca}.pkl')"
   ]
  },
  {
   "cell_type": "markdown",
   "metadata": {
    "jupyter": {
     "outputs_hidden": false
    },
    "pycharm": {
     "name": "#%% md\n"
    }
   },
   "source": [
    "# VKGLTest"
   ]
  },
  {
   "cell_type": "code",
   "execution_count": 12,
   "metadata": {
    "collapsed": false,
    "execution": {
     "iopub.execute_input": "2024-01-12T07:49:00.065884Z",
     "iopub.status.busy": "2024-01-12T07:49:00.065251Z",
     "iopub.status.idle": "2024-01-12T07:49:01.056383Z",
     "shell.execute_reply": "2024-01-12T07:49:01.055389Z",
     "shell.execute_reply.started": "2024-01-12T07:49:00.065861Z"
    },
    "jupyter": {
     "outputs_hidden": false
    },
    "pycharm": {
     "name": "#%%\n"
    },
    "tags": []
   },
   "outputs": [],
   "source": [
    "test2_path = '../database/VKGL_public_consensus_202307_indel.sorted.no_train.hg19_multianno.txt'\n",
    "total = pd.read_table(test2_path, )"
   ]
  },
  {
   "cell_type": "code",
   "execution_count": 13,
   "metadata": {
    "collapsed": false,
    "execution": {
     "iopub.execute_input": "2024-01-12T07:49:01.057962Z",
     "iopub.status.busy": "2024-01-12T07:49:01.057561Z",
     "iopub.status.idle": "2024-01-12T07:49:01.245846Z",
     "shell.execute_reply": "2024-01-12T07:49:01.244791Z",
     "shell.execute_reply.started": "2024-01-12T07:49:01.057937Z"
    },
    "jupyter": {
     "outputs_hidden": false
    },
    "pycharm": {
     "name": "#%%\n"
    },
    "tags": []
   },
   "outputs": [],
   "source": [
    "# 提取特征\n",
    "total['support'] = total['Otherinfo11'].str.extract(r'support=(.*?);')\n",
    "total['classification'] = total['Otherinfo11'].str.extract(r'classification=(.*?)$')\n",
    "total = process_dataframe(total)\n",
    "total = compute_func_score(total)"
   ]
  },
  {
   "cell_type": "code",
   "execution_count": 14,
   "metadata": {
    "collapsed": false,
    "execution": {
     "iopub.execute_input": "2024-01-12T07:49:01.247455Z",
     "iopub.status.busy": "2024-01-12T07:49:01.247049Z",
     "iopub.status.idle": "2024-01-12T07:49:01.255875Z",
     "shell.execute_reply": "2024-01-12T07:49:01.255068Z",
     "shell.execute_reply.started": "2024-01-12T07:49:01.247431Z"
    },
    "jupyter": {
     "outputs_hidden": false
    },
    "pycharm": {
     "name": "#%%\n"
    },
    "tags": []
   },
   "outputs": [],
   "source": [
    "p_list=['P','LP']\n",
    "b_list=['B','LB']\n",
    "total.loc[total['classification'].isin(p_list),'tag']=1\n",
    "total.loc[total['classification'].isin(b_list),'tag']=0\n",
    "total['tag'].fillna(-9, inplace=True)"
   ]
  },
  {
   "cell_type": "code",
   "execution_count": 15,
   "metadata": {
    "collapsed": false,
    "execution": {
     "iopub.execute_input": "2024-01-12T07:49:01.257297Z",
     "iopub.status.busy": "2024-01-12T07:49:01.256943Z",
     "iopub.status.idle": "2024-01-12T07:49:01.356019Z",
     "shell.execute_reply": "2024-01-12T07:49:01.355190Z",
     "shell.execute_reply.started": "2024-01-12T07:49:01.257274Z"
    },
    "jupyter": {
     "outputs_hidden": false
    },
    "pycharm": {
     "name": "#%%\n"
    },
    "tags": []
   },
   "outputs": [
    {
     "data": {
      "text/html": [
       "<div>\n",
       "<style scoped>\n",
       "    .dataframe tbody tr th:only-of-type {\n",
       "        vertical-align: middle;\n",
       "    }\n",
       "\n",
       "    .dataframe tbody tr th {\n",
       "        vertical-align: top;\n",
       "    }\n",
       "\n",
       "    .dataframe thead th {\n",
       "        text-align: right;\n",
       "    }\n",
       "</style>\n",
       "<table border=\"1\" class=\"dataframe\">\n",
       "  <thead>\n",
       "    <tr style=\"text-align: right;\">\n",
       "      <th></th>\n",
       "      <th>Chr</th>\n",
       "      <th>Start</th>\n",
       "      <th>End</th>\n",
       "      <th>Ref</th>\n",
       "      <th>Alt</th>\n",
       "      <th>Func.refGene</th>\n",
       "      <th>Gene.refGene</th>\n",
       "      <th>GeneDetail.refGene</th>\n",
       "      <th>ExonicFunc.refGene</th>\n",
       "      <th>AAChange.refGene</th>\n",
       "      <th>...</th>\n",
       "      <th>stopgain</th>\n",
       "      <th>stoploss</th>\n",
       "      <th>unknown</th>\n",
       "      <th>tag</th>\n",
       "      <th>Func_b</th>\n",
       "      <th>Func_p</th>\n",
       "      <th>Func</th>\n",
       "      <th>ExonicFunc_b</th>\n",
       "      <th>ExonicFunc_p</th>\n",
       "      <th>ExonicFunc</th>\n",
       "    </tr>\n",
       "  </thead>\n",
       "  <tbody>\n",
       "    <tr>\n",
       "      <th>0</th>\n",
       "      <td>1</td>\n",
       "      <td>878052</td>\n",
       "      <td>878052</td>\n",
       "      <td>G</td>\n",
       "      <td>-</td>\n",
       "      <td>exonic</td>\n",
       "      <td>SAMD11</td>\n",
       "      <td>.</td>\n",
       "      <td>unknown</td>\n",
       "      <td>UNKNOWN</td>\n",
       "      <td>...</td>\n",
       "      <td>0.070658</td>\n",
       "      <td>0.008043</td>\n",
       "      <td>0.191249</td>\n",
       "      <td>-9.0</td>\n",
       "      <td>-0.780927</td>\n",
       "      <td>35.482988</td>\n",
       "      <td>1</td>\n",
       "      <td>-2.902486</td>\n",
       "      <td>1.728532</td>\n",
       "      <td>11</td>\n",
       "    </tr>\n",
       "    <tr>\n",
       "      <th>1</th>\n",
       "      <td>1</td>\n",
       "      <td>980806</td>\n",
       "      <td>980806</td>\n",
       "      <td>-</td>\n",
       "      <td>T</td>\n",
       "      <td>exonic</td>\n",
       "      <td>AGRN</td>\n",
       "      <td>.</td>\n",
       "      <td>unknown</td>\n",
       "      <td>UNKNOWN</td>\n",
       "      <td>...</td>\n",
       "      <td>0.070658</td>\n",
       "      <td>0.008043</td>\n",
       "      <td>0.191249</td>\n",
       "      <td>-9.0</td>\n",
       "      <td>-0.780927</td>\n",
       "      <td>35.482988</td>\n",
       "      <td>1</td>\n",
       "      <td>-2.902486</td>\n",
       "      <td>1.728532</td>\n",
       "      <td>11</td>\n",
       "    </tr>\n",
       "    <tr>\n",
       "      <th>2</th>\n",
       "      <td>1</td>\n",
       "      <td>1164082</td>\n",
       "      <td>1164084</td>\n",
       "      <td>AGA</td>\n",
       "      <td>-</td>\n",
       "      <td>exonic</td>\n",
       "      <td>SDF4</td>\n",
       "      <td>.</td>\n",
       "      <td>nonframeshift deletion</td>\n",
       "      <td>SDF4:NM_016547:exon2:c.90_92del:p.L31del</td>\n",
       "      <td>...</td>\n",
       "      <td>0.070658</td>\n",
       "      <td>0.008043</td>\n",
       "      <td>0.191249</td>\n",
       "      <td>-9.0</td>\n",
       "      <td>-0.780927</td>\n",
       "      <td>35.482988</td>\n",
       "      <td>1</td>\n",
       "      <td>-0.858484</td>\n",
       "      <td>-0.746500</td>\n",
       "      <td>7</td>\n",
       "    </tr>\n",
       "    <tr>\n",
       "      <th>3</th>\n",
       "      <td>1</td>\n",
       "      <td>1275687</td>\n",
       "      <td>1275689</td>\n",
       "      <td>AGG</td>\n",
       "      <td>-</td>\n",
       "      <td>exonic</td>\n",
       "      <td>DVL1</td>\n",
       "      <td>.</td>\n",
       "      <td>nonframeshift deletion</td>\n",
       "      <td>DVL1:NM_004421:exon7:c.707_709del:p.236_237del</td>\n",
       "      <td>...</td>\n",
       "      <td>0.070658</td>\n",
       "      <td>0.008043</td>\n",
       "      <td>0.191249</td>\n",
       "      <td>0.0</td>\n",
       "      <td>-0.780927</td>\n",
       "      <td>35.482988</td>\n",
       "      <td>1</td>\n",
       "      <td>-0.858484</td>\n",
       "      <td>-0.746500</td>\n",
       "      <td>7</td>\n",
       "    </tr>\n",
       "    <tr>\n",
       "      <th>4</th>\n",
       "      <td>1</td>\n",
       "      <td>1374916</td>\n",
       "      <td>1374916</td>\n",
       "      <td>-</td>\n",
       "      <td>GCTA</td>\n",
       "      <td>exonic</td>\n",
       "      <td>VWA1</td>\n",
       "      <td>.</td>\n",
       "      <td>unknown</td>\n",
       "      <td>UNKNOWN</td>\n",
       "      <td>...</td>\n",
       "      <td>0.070658</td>\n",
       "      <td>0.008043</td>\n",
       "      <td>0.191249</td>\n",
       "      <td>1.0</td>\n",
       "      <td>-0.780927</td>\n",
       "      <td>35.482988</td>\n",
       "      <td>1</td>\n",
       "      <td>-2.902486</td>\n",
       "      <td>1.728532</td>\n",
       "      <td>11</td>\n",
       "    </tr>\n",
       "  </tbody>\n",
       "</table>\n",
       "<p>5 rows × 82 columns</p>\n",
       "</div>"
      ],
      "text/plain": [
       "  Chr    Start      End  Ref   Alt Func.refGene Gene.refGene  \\\n",
       "0   1   878052   878052    G     -       exonic       SAMD11   \n",
       "1   1   980806   980806    -     T       exonic         AGRN   \n",
       "2   1  1164082  1164084  AGA     -       exonic         SDF4   \n",
       "3   1  1275687  1275689  AGG     -       exonic         DVL1   \n",
       "4   1  1374916  1374916    -  GCTA       exonic         VWA1   \n",
       "\n",
       "  GeneDetail.refGene      ExonicFunc.refGene  \\\n",
       "0                  .                 unknown   \n",
       "1                  .                 unknown   \n",
       "2                  .  nonframeshift deletion   \n",
       "3                  .  nonframeshift deletion   \n",
       "4                  .                 unknown   \n",
       "\n",
       "                                 AAChange.refGene  ...  stopgain  stoploss  \\\n",
       "0                                         UNKNOWN  ...  0.070658  0.008043   \n",
       "1                                         UNKNOWN  ...  0.070658  0.008043   \n",
       "2        SDF4:NM_016547:exon2:c.90_92del:p.L31del  ...  0.070658  0.008043   \n",
       "3  DVL1:NM_004421:exon7:c.707_709del:p.236_237del  ...  0.070658  0.008043   \n",
       "4                                         UNKNOWN  ...  0.070658  0.008043   \n",
       "\n",
       "    unknown  tag    Func_b     Func_p Func ExonicFunc_b ExonicFunc_p  \\\n",
       "0  0.191249 -9.0 -0.780927  35.482988    1    -2.902486     1.728532   \n",
       "1  0.191249 -9.0 -0.780927  35.482988    1    -2.902486     1.728532   \n",
       "2  0.191249 -9.0 -0.780927  35.482988    1    -0.858484    -0.746500   \n",
       "3  0.191249  0.0 -0.780927  35.482988    1    -0.858484    -0.746500   \n",
       "4  0.191249  1.0 -0.780927  35.482988    1    -2.902486     1.728532   \n",
       "\n",
       "  ExonicFunc  \n",
       "0         11  \n",
       "1         11  \n",
       "2          7  \n",
       "3          7  \n",
       "4         11  \n",
       "\n",
       "[5 rows x 82 columns]"
      ]
     },
     "execution_count": 15,
     "metadata": {},
     "output_type": "execute_result"
    }
   ],
   "source": [
    "func_replace(total)\n",
    "total.head()"
   ]
  },
  {
   "cell_type": "code",
   "execution_count": 16,
   "metadata": {
    "collapsed": false,
    "execution": {
     "iopub.execute_input": "2024-01-12T07:49:01.357510Z",
     "iopub.status.busy": "2024-01-12T07:49:01.357161Z",
     "iopub.status.idle": "2024-01-12T07:49:01.363937Z",
     "shell.execute_reply": "2024-01-12T07:49:01.363056Z",
     "shell.execute_reply.started": "2024-01-12T07:49:01.357487Z"
    },
    "jupyter": {
     "outputs_hidden": false
    },
    "pycharm": {
     "name": "#%%\n"
    },
    "tags": []
   },
   "outputs": [],
   "source": [
    "columns_list_plus = columns_list + ['support']\n",
    "rename_col_plus = rename_col + ['star']\n",
    "\n",
    "total = total.loc[:,columns_list_plus]"
   ]
  },
  {
   "cell_type": "code",
   "execution_count": 17,
   "metadata": {
    "collapsed": false,
    "execution": {
     "iopub.execute_input": "2024-01-12T07:49:01.365259Z",
     "iopub.status.busy": "2024-01-12T07:49:01.364940Z",
     "iopub.status.idle": "2024-01-12T07:49:01.399728Z",
     "shell.execute_reply": "2024-01-12T07:49:01.398896Z",
     "shell.execute_reply.started": "2024-01-12T07:49:01.365237Z"
    },
    "jupyter": {
     "outputs_hidden": false
    },
    "pycharm": {
     "name": "#%%\n"
    },
    "tags": []
   },
   "outputs": [],
   "source": [
    "VGKL = total.loc[total['tag'].isin([0,1]),]\n",
    "VGKL.columns=rename_col_plus\n",
    "VGKL = VGKL.replace('.', np.nan)\n",
    "\n",
    "for column in VGKL.columns[7:]:\n",
    "    VGKL[column] = pd.to_numeric(VGKL[column])\n",
    "    VGKL[column].fillna(0, inplace=True)"
   ]
  },
  {
   "cell_type": "code",
   "execution_count": 18,
   "metadata": {
    "execution": {
     "iopub.execute_input": "2024-01-12T07:49:01.401111Z",
     "iopub.status.busy": "2024-01-12T07:49:01.400756Z",
     "iopub.status.idle": "2024-01-12T07:49:02.214328Z",
     "shell.execute_reply": "2024-01-12T07:49:02.213155Z",
     "shell.execute_reply.started": "2024-01-12T07:49:01.401080Z"
    },
    "tags": []
   },
   "outputs": [],
   "source": [
    "VGKL.to_csv(f'VGKL_max_info_{loca}.csv', index=None)"
   ]
  },
  {
   "cell_type": "code",
   "execution_count": 19,
   "metadata": {
    "collapsed": false,
    "execution": {
     "iopub.execute_input": "2024-01-12T07:49:06.636126Z",
     "iopub.status.busy": "2024-01-12T07:49:06.635658Z",
     "iopub.status.idle": "2024-01-12T07:49:07.000767Z",
     "shell.execute_reply": "2024-01-12T07:49:06.999359Z",
     "shell.execute_reply.started": "2024-01-12T07:49:06.636099Z"
    },
    "jupyter": {
     "outputs_hidden": false
    },
    "pycharm": {
     "name": "#%%\n"
    },
    "tags": []
   },
   "outputs": [],
   "source": [
    "x_VGKL = VGKL.iloc[:,7:-2]\n",
    "y_VGKL = VGKL['tag']\n",
    "save_data([x_VGKL,y_VGKL],f'VGKL_test_{loca}.pkl')"
   ]
  },
  {
   "cell_type": "markdown",
   "metadata": {
    "jupyter": {
     "outputs_hidden": false
    },
    "tags": []
   },
   "source": [
    "# HGMDTest"
   ]
  },
  {
   "cell_type": "code",
   "execution_count": 20,
   "metadata": {
    "collapsed": false,
    "execution": {
     "iopub.execute_input": "2024-01-12T07:50:42.311438Z",
     "iopub.status.busy": "2024-01-12T07:50:42.310620Z",
     "iopub.status.idle": "2024-01-12T07:50:46.172110Z",
     "shell.execute_reply": "2024-01-12T07:50:46.171167Z",
     "shell.execute_reply.started": "2024-01-12T07:50:42.311385Z"
    },
    "jupyter": {
     "outputs_hidden": false
    },
    "pycharm": {
     "name": "#%%\n"
    },
    "tags": []
   },
   "outputs": [
    {
     "name": "stderr",
     "output_type": "stream",
     "text": [
      "/tmp/ipykernel_17849/1311427161.py:2: DtypeWarning: Columns (47) have mixed types. Specify dtype option on import or set low_memory=False.\n",
      "  total = pd.read_table(HGMD_path, dtype={'Chr': str})\n",
      "/tmp/ipykernel_17849/1311427161.py:6: DtypeWarning: Columns (0,27,29,30,32,36,47) have mixed types. Specify dtype option on import or set low_memory=False.\n",
      "  varisnp = pd.read_table(varisnp_path)\n"
     ]
    }
   ],
   "source": [
    "HGMD_path = '../database/HGMD.hg19_multianno.txt'\n",
    "total = pd.read_table(HGMD_path, dtype={'Chr': str})\n",
    "total.loc[:,'tag']=1\n",
    "\n",
    "varisnp_path = '../database/gnomad211_indel_0.01_neutral_no_train.hg19_multianno.txt'\n",
    "varisnp = pd.read_table(varisnp_path)\n",
    "varisnp.loc[:,'tag']=0\n",
    "varisnp = varisnp[varisnp['controls_AF_popmax.1'] != '.']"
   ]
  },
  {
   "cell_type": "code",
   "execution_count": 21,
   "metadata": {
    "collapsed": false,
    "execution": {
     "iopub.execute_input": "2024-01-12T07:50:46.174085Z",
     "iopub.status.busy": "2024-01-12T07:50:46.173836Z",
     "iopub.status.idle": "2024-01-12T07:50:46.874298Z",
     "shell.execute_reply": "2024-01-12T07:50:46.873384Z",
     "shell.execute_reply.started": "2024-01-12T07:50:46.174064Z"
    },
    "jupyter": {
     "outputs_hidden": false
    },
    "pycharm": {
     "name": "#%%\n"
    },
    "tags": []
   },
   "outputs": [],
   "source": [
    "# 筛子集\n",
    "from sklearn.utils import resample\n",
    "varisnp_sub = resample(varisnp, n_samples=(total.shape[0]), random_state=42)\n",
    "total = pd.concat([total, varisnp_sub]).reset_index()"
   ]
  },
  {
   "cell_type": "code",
   "execution_count": 22,
   "metadata": {
    "collapsed": false,
    "execution": {
     "iopub.execute_input": "2024-01-12T07:50:46.900383Z",
     "iopub.status.busy": "2024-01-12T07:50:46.900134Z",
     "iopub.status.idle": "2024-01-12T07:50:47.548165Z",
     "shell.execute_reply": "2024-01-12T07:50:47.547092Z",
     "shell.execute_reply.started": "2024-01-12T07:50:46.900361Z"
    },
    "jupyter": {
     "outputs_hidden": false
    },
    "pycharm": {
     "name": "#%%\n"
    },
    "tags": []
   },
   "outputs": [
    {
     "data": {
      "text/html": [
       "<div>\n",
       "<style scoped>\n",
       "    .dataframe tbody tr th:only-of-type {\n",
       "        vertical-align: middle;\n",
       "    }\n",
       "\n",
       "    .dataframe tbody tr th {\n",
       "        vertical-align: top;\n",
       "    }\n",
       "\n",
       "    .dataframe thead th {\n",
       "        text-align: right;\n",
       "    }\n",
       "</style>\n",
       "<table border=\"1\" class=\"dataframe\">\n",
       "  <thead>\n",
       "    <tr style=\"text-align: right;\">\n",
       "      <th></th>\n",
       "      <th>index</th>\n",
       "      <th>Chr</th>\n",
       "      <th>Start</th>\n",
       "      <th>End</th>\n",
       "      <th>Ref</th>\n",
       "      <th>Alt</th>\n",
       "      <th>Func.refGene</th>\n",
       "      <th>Gene.refGene</th>\n",
       "      <th>GeneDetail.refGene</th>\n",
       "      <th>ExonicFunc.refGene</th>\n",
       "      <th>...</th>\n",
       "      <th>startloss</th>\n",
       "      <th>stopgain</th>\n",
       "      <th>stoploss</th>\n",
       "      <th>unknown</th>\n",
       "      <th>Func_b</th>\n",
       "      <th>Func_p</th>\n",
       "      <th>Func</th>\n",
       "      <th>ExonicFunc_b</th>\n",
       "      <th>ExonicFunc_p</th>\n",
       "      <th>ExonicFunc</th>\n",
       "    </tr>\n",
       "  </thead>\n",
       "  <tbody>\n",
       "    <tr>\n",
       "      <th>0</th>\n",
       "      <td>0</td>\n",
       "      <td>1</td>\n",
       "      <td>1168186</td>\n",
       "      <td>1168186</td>\n",
       "      <td>-</td>\n",
       "      <td>CGCCGC</td>\n",
       "      <td>exonic</td>\n",
       "      <td>B3GALT6</td>\n",
       "      <td>.</td>\n",
       "      <td>unknown</td>\n",
       "      <td>...</td>\n",
       "      <td>0.003746</td>\n",
       "      <td>0.070658</td>\n",
       "      <td>0.008043</td>\n",
       "      <td>0.191249</td>\n",
       "      <td>-0.780927</td>\n",
       "      <td>35.482988</td>\n",
       "      <td>1</td>\n",
       "      <td>-2.902486</td>\n",
       "      <td>1.728532</td>\n",
       "      <td>11</td>\n",
       "    </tr>\n",
       "    <tr>\n",
       "      <th>1</th>\n",
       "      <td>1</td>\n",
       "      <td>1</td>\n",
       "      <td>2160491</td>\n",
       "      <td>2160502</td>\n",
       "      <td>CGCTCCACCGAG</td>\n",
       "      <td>-</td>\n",
       "      <td>exonic</td>\n",
       "      <td>SKI</td>\n",
       "      <td>.</td>\n",
       "      <td>unknown</td>\n",
       "      <td>...</td>\n",
       "      <td>0.003746</td>\n",
       "      <td>0.070658</td>\n",
       "      <td>0.008043</td>\n",
       "      <td>0.191249</td>\n",
       "      <td>-0.780927</td>\n",
       "      <td>35.482988</td>\n",
       "      <td>1</td>\n",
       "      <td>-2.902486</td>\n",
       "      <td>1.728532</td>\n",
       "      <td>11</td>\n",
       "    </tr>\n",
       "    <tr>\n",
       "      <th>2</th>\n",
       "      <td>2</td>\n",
       "      <td>1</td>\n",
       "      <td>2338288</td>\n",
       "      <td>2338288</td>\n",
       "      <td>-</td>\n",
       "      <td>T</td>\n",
       "      <td>exonic</td>\n",
       "      <td>PEX10</td>\n",
       "      <td>.</td>\n",
       "      <td>frameshift insertion</td>\n",
       "      <td>...</td>\n",
       "      <td>0.003746</td>\n",
       "      <td>0.070658</td>\n",
       "      <td>0.008043</td>\n",
       "      <td>0.191249</td>\n",
       "      <td>-0.780927</td>\n",
       "      <td>35.482988</td>\n",
       "      <td>1</td>\n",
       "      <td>0.038176</td>\n",
       "      <td>0.519968</td>\n",
       "      <td>1</td>\n",
       "    </tr>\n",
       "    <tr>\n",
       "      <th>3</th>\n",
       "      <td>3</td>\n",
       "      <td>1</td>\n",
       "      <td>2338298</td>\n",
       "      <td>2338298</td>\n",
       "      <td>C</td>\n",
       "      <td>-</td>\n",
       "      <td>exonic</td>\n",
       "      <td>PEX10</td>\n",
       "      <td>.</td>\n",
       "      <td>frameshift deletion</td>\n",
       "      <td>...</td>\n",
       "      <td>0.003746</td>\n",
       "      <td>0.070658</td>\n",
       "      <td>0.008043</td>\n",
       "      <td>0.191249</td>\n",
       "      <td>-0.780927</td>\n",
       "      <td>35.482988</td>\n",
       "      <td>1</td>\n",
       "      <td>-0.314585</td>\n",
       "      <td>2.216921</td>\n",
       "      <td>2</td>\n",
       "    </tr>\n",
       "    <tr>\n",
       "      <th>4</th>\n",
       "      <td>5</td>\n",
       "      <td>1</td>\n",
       "      <td>5925202</td>\n",
       "      <td>5925205</td>\n",
       "      <td>CTCA</td>\n",
       "      <td>-</td>\n",
       "      <td>exonic</td>\n",
       "      <td>NPHP4</td>\n",
       "      <td>.</td>\n",
       "      <td>unknown</td>\n",
       "      <td>...</td>\n",
       "      <td>0.003746</td>\n",
       "      <td>0.070658</td>\n",
       "      <td>0.008043</td>\n",
       "      <td>0.191249</td>\n",
       "      <td>-0.780927</td>\n",
       "      <td>35.482988</td>\n",
       "      <td>1</td>\n",
       "      <td>-2.902486</td>\n",
       "      <td>1.728532</td>\n",
       "      <td>11</td>\n",
       "    </tr>\n",
       "  </tbody>\n",
       "</table>\n",
       "<p>5 rows × 81 columns</p>\n",
       "</div>"
      ],
      "text/plain": [
       "   index Chr    Start      End           Ref     Alt Func.refGene  \\\n",
       "0      0   1  1168186  1168186             -  CGCCGC       exonic   \n",
       "1      1   1  2160491  2160502  CGCTCCACCGAG       -       exonic   \n",
       "2      2   1  2338288  2338288             -       T       exonic   \n",
       "3      3   1  2338298  2338298             C       -       exonic   \n",
       "4      5   1  5925202  5925205          CTCA       -       exonic   \n",
       "\n",
       "  Gene.refGene GeneDetail.refGene    ExonicFunc.refGene  ... startloss  \\\n",
       "0      B3GALT6                  .               unknown  ...  0.003746   \n",
       "1          SKI                  .               unknown  ...  0.003746   \n",
       "2        PEX10                  .  frameshift insertion  ...  0.003746   \n",
       "3        PEX10                  .   frameshift deletion  ...  0.003746   \n",
       "4        NPHP4                  .               unknown  ...  0.003746   \n",
       "\n",
       "   stopgain  stoploss   unknown    Func_b     Func_p Func ExonicFunc_b  \\\n",
       "0  0.070658  0.008043  0.191249 -0.780927  35.482988    1    -2.902486   \n",
       "1  0.070658  0.008043  0.191249 -0.780927  35.482988    1    -2.902486   \n",
       "2  0.070658  0.008043  0.191249 -0.780927  35.482988    1     0.038176   \n",
       "3  0.070658  0.008043  0.191249 -0.780927  35.482988    1    -0.314585   \n",
       "4  0.070658  0.008043  0.191249 -0.780927  35.482988    1    -2.902486   \n",
       "\n",
       "  ExonicFunc_p ExonicFunc  \n",
       "0     1.728532         11  \n",
       "1     1.728532         11  \n",
       "2     0.519968          1  \n",
       "3     2.216921          2  \n",
       "4     1.728532         11  \n",
       "\n",
       "[5 rows x 81 columns]"
      ]
     },
     "execution_count": 22,
     "metadata": {},
     "output_type": "execute_result"
    }
   ],
   "source": [
    "# 提取特征\n",
    "total = process_dataframe(total)\n",
    "total = compute_func_score(total)\n",
    "func_replace(total)\n",
    "total.head()"
   ]
  },
  {
   "cell_type": "code",
   "execution_count": 23,
   "metadata": {
    "collapsed": false,
    "execution": {
     "iopub.execute_input": "2024-01-12T07:50:47.549640Z",
     "iopub.status.busy": "2024-01-12T07:50:47.549390Z",
     "iopub.status.idle": "2024-01-12T07:50:47.618836Z",
     "shell.execute_reply": "2024-01-12T07:50:47.617886Z",
     "shell.execute_reply.started": "2024-01-12T07:50:47.549620Z"
    },
    "jupyter": {
     "outputs_hidden": false
    },
    "pycharm": {
     "name": "#%%\n"
    },
    "tags": []
   },
   "outputs": [],
   "source": [
    "HGMD = total.loc[:, columns_list]\n",
    "HGMD.columns = rename_col\n",
    "HGMD = HGMD.replace('.', np.nan)\n",
    "\n",
    "for column in HGMD.columns[7:]:\n",
    "    HGMD[column] = pd.to_numeric(HGMD[column])\n",
    "    HGMD[column].fillna(0, inplace=True)"
   ]
  },
  {
   "cell_type": "code",
   "execution_count": 24,
   "metadata": {
    "execution": {
     "iopub.execute_input": "2024-01-12T07:50:57.043258Z",
     "iopub.status.busy": "2024-01-12T07:50:57.042540Z",
     "iopub.status.idle": "2024-01-12T07:50:58.598196Z",
     "shell.execute_reply": "2024-01-12T07:50:58.596691Z",
     "shell.execute_reply.started": "2024-01-12T07:50:57.043216Z"
    },
    "tags": []
   },
   "outputs": [],
   "source": [
    "HGMD.to_csv(f'HGMD_max_info_{loca}.csv', index=None)"
   ]
  },
  {
   "cell_type": "code",
   "execution_count": 25,
   "metadata": {
    "collapsed": false,
    "execution": {
     "iopub.execute_input": "2024-01-12T07:50:58.633218Z",
     "iopub.status.busy": "2024-01-12T07:50:58.632663Z",
     "iopub.status.idle": "2024-01-12T07:50:58.677456Z",
     "shell.execute_reply": "2024-01-12T07:50:58.676525Z",
     "shell.execute_reply.started": "2024-01-12T07:50:58.633180Z"
    },
    "jupyter": {
     "outputs_hidden": false
    },
    "pycharm": {
     "name": "#%%\n"
    },
    "tags": []
   },
   "outputs": [],
   "source": [
    "x_HGMD = HGMD.iloc[:,7:-1]\n",
    "y_HGMD = HGMD['tag']\n",
    "save_data([x_HGMD,y_HGMD],f'HGMD_test_{loca}.pkl')"
   ]
  },
  {
   "cell_type": "markdown",
   "metadata": {
    "tags": []
   },
   "source": [
    "# HGMDSharedGene"
   ]
  },
  {
   "cell_type": "code",
   "execution_count": 26,
   "metadata": {
    "collapsed": false,
    "execution": {
     "iopub.execute_input": "2024-01-12T07:51:16.184565Z",
     "iopub.status.busy": "2024-01-12T07:51:16.183930Z",
     "iopub.status.idle": "2024-01-12T07:51:17.877274Z",
     "shell.execute_reply": "2024-01-12T07:51:17.876243Z",
     "shell.execute_reply.started": "2024-01-12T07:51:16.184530Z"
    },
    "jupyter": {
     "outputs_hidden": false
    },
    "pycharm": {
     "name": "#%%\n"
    },
    "tags": []
   },
   "outputs": [
    {
     "name": "stderr",
     "output_type": "stream",
     "text": [
      "/tmp/ipykernel_17849/2194315159.py:2: DtypeWarning: Columns (47) have mixed types. Specify dtype option on import or set low_memory=False.\n",
      "  total = pd.read_table(HGMD_path, dtype={'Chr': str})\n",
      "/tmp/ipykernel_17849/2194315159.py:6: DtypeWarning: Columns (0,27,29,30,32,36,47) have mixed types. Specify dtype option on import or set low_memory=False.\n",
      "  varisnp = pd.read_table(varisnp_path)\n"
     ]
    }
   ],
   "source": [
    "HGMD_path = '../database/HGMD.hg19_multianno.txt'\n",
    "total = pd.read_table(HGMD_path, dtype={'Chr': str})\n",
    "total.loc[:,'tag']=1\n",
    "\n",
    "varisnp_path = '../database/gnomad211_indel_0.01_neutral_no_train.hg19_multianno.txt'\n",
    "varisnp = pd.read_table(varisnp_path)\n",
    "varisnp.loc[:,'tag'] = 0\n",
    "# varisnp = varisnp[varisnp['controls_AF_popmax.1'] != '.']"
   ]
  },
  {
   "cell_type": "code",
   "execution_count": 27,
   "metadata": {
    "collapsed": false,
    "execution": {
     "iopub.execute_input": "2024-01-12T07:51:17.905186Z",
     "iopub.status.busy": "2024-01-12T07:51:17.904703Z",
     "iopub.status.idle": "2024-01-12T07:51:18.209947Z",
     "shell.execute_reply": "2024-01-12T07:51:18.209080Z",
     "shell.execute_reply.started": "2024-01-12T07:51:17.905151Z"
    },
    "jupyter": {
     "outputs_hidden": false
    },
    "pycharm": {
     "name": "#%%\n"
    },
    "tags": []
   },
   "outputs": [],
   "source": [
    "# 选同基因\n",
    "varisnp = varisnp[varisnp['Gene.refGene'].isin(total['Gene.refGene'])]\n",
    "total = pd.concat([total, varisnp]).reset_index()\n",
    "grouped_tags = total.groupby('Gene.refGene')['tag'].unique()\n",
    "genes_with_both_tags = grouped_tags[grouped_tags.apply(lambda x: set(x) == {0, 1})].index\n",
    "total = total[total['Gene.refGene'].isin(genes_with_both_tags)]"
   ]
  },
  {
   "cell_type": "code",
   "execution_count": 28,
   "metadata": {
    "collapsed": false,
    "execution": {
     "iopub.execute_input": "2024-01-12T07:51:18.212035Z",
     "iopub.status.busy": "2024-01-12T07:51:18.211781Z",
     "iopub.status.idle": "2024-01-12T07:51:18.676758Z",
     "shell.execute_reply": "2024-01-12T07:51:18.675847Z",
     "shell.execute_reply.started": "2024-01-12T07:51:18.212013Z"
    },
    "jupyter": {
     "outputs_hidden": false
    },
    "pycharm": {
     "name": "#%%\n"
    },
    "tags": []
   },
   "outputs": [
    {
     "data": {
      "text/html": [
       "<div>\n",
       "<style scoped>\n",
       "    .dataframe tbody tr th:only-of-type {\n",
       "        vertical-align: middle;\n",
       "    }\n",
       "\n",
       "    .dataframe tbody tr th {\n",
       "        vertical-align: top;\n",
       "    }\n",
       "\n",
       "    .dataframe thead th {\n",
       "        text-align: right;\n",
       "    }\n",
       "</style>\n",
       "<table border=\"1\" class=\"dataframe\">\n",
       "  <thead>\n",
       "    <tr style=\"text-align: right;\">\n",
       "      <th></th>\n",
       "      <th>index</th>\n",
       "      <th>Chr</th>\n",
       "      <th>Start</th>\n",
       "      <th>End</th>\n",
       "      <th>Ref</th>\n",
       "      <th>Alt</th>\n",
       "      <th>Func.refGene</th>\n",
       "      <th>Gene.refGene</th>\n",
       "      <th>GeneDetail.refGene</th>\n",
       "      <th>ExonicFunc.refGene</th>\n",
       "      <th>...</th>\n",
       "      <th>startloss</th>\n",
       "      <th>stopgain</th>\n",
       "      <th>stoploss</th>\n",
       "      <th>unknown</th>\n",
       "      <th>Func_b</th>\n",
       "      <th>Func_p</th>\n",
       "      <th>Func</th>\n",
       "      <th>ExonicFunc_b</th>\n",
       "      <th>ExonicFunc_p</th>\n",
       "      <th>ExonicFunc</th>\n",
       "    </tr>\n",
       "  </thead>\n",
       "  <tbody>\n",
       "    <tr>\n",
       "      <th>0</th>\n",
       "      <td>1</td>\n",
       "      <td>1</td>\n",
       "      <td>2160491</td>\n",
       "      <td>2160502</td>\n",
       "      <td>CGCTCCACCGAG</td>\n",
       "      <td>-</td>\n",
       "      <td>exonic</td>\n",
       "      <td>SKI</td>\n",
       "      <td>.</td>\n",
       "      <td>unknown</td>\n",
       "      <td>...</td>\n",
       "      <td>0.003746</td>\n",
       "      <td>0.070658</td>\n",
       "      <td>0.008043</td>\n",
       "      <td>0.191249</td>\n",
       "      <td>-0.780927</td>\n",
       "      <td>35.482988</td>\n",
       "      <td>1</td>\n",
       "      <td>-2.902486</td>\n",
       "      <td>1.728532</td>\n",
       "      <td>11</td>\n",
       "    </tr>\n",
       "    <tr>\n",
       "      <th>1</th>\n",
       "      <td>5</td>\n",
       "      <td>1</td>\n",
       "      <td>5925202</td>\n",
       "      <td>5925205</td>\n",
       "      <td>CTCA</td>\n",
       "      <td>-</td>\n",
       "      <td>exonic</td>\n",
       "      <td>NPHP4</td>\n",
       "      <td>.</td>\n",
       "      <td>unknown</td>\n",
       "      <td>...</td>\n",
       "      <td>0.003746</td>\n",
       "      <td>0.070658</td>\n",
       "      <td>0.008043</td>\n",
       "      <td>0.191249</td>\n",
       "      <td>-0.780927</td>\n",
       "      <td>35.482988</td>\n",
       "      <td>1</td>\n",
       "      <td>-2.902486</td>\n",
       "      <td>1.728532</td>\n",
       "      <td>11</td>\n",
       "    </tr>\n",
       "    <tr>\n",
       "      <th>2</th>\n",
       "      <td>6</td>\n",
       "      <td>1</td>\n",
       "      <td>5925206</td>\n",
       "      <td>5925209</td>\n",
       "      <td>CTGT</td>\n",
       "      <td>-</td>\n",
       "      <td>exonic</td>\n",
       "      <td>NPHP4</td>\n",
       "      <td>.</td>\n",
       "      <td>unknown</td>\n",
       "      <td>...</td>\n",
       "      <td>0.003746</td>\n",
       "      <td>0.070658</td>\n",
       "      <td>0.008043</td>\n",
       "      <td>0.191249</td>\n",
       "      <td>-0.780927</td>\n",
       "      <td>35.482988</td>\n",
       "      <td>1</td>\n",
       "      <td>-2.902486</td>\n",
       "      <td>1.728532</td>\n",
       "      <td>11</td>\n",
       "    </tr>\n",
       "    <tr>\n",
       "      <th>3</th>\n",
       "      <td>7</td>\n",
       "      <td>1</td>\n",
       "      <td>5925211</td>\n",
       "      <td>5925214</td>\n",
       "      <td>TGTG</td>\n",
       "      <td>-</td>\n",
       "      <td>exonic</td>\n",
       "      <td>NPHP4</td>\n",
       "      <td>.</td>\n",
       "      <td>unknown</td>\n",
       "      <td>...</td>\n",
       "      <td>0.003746</td>\n",
       "      <td>0.070658</td>\n",
       "      <td>0.008043</td>\n",
       "      <td>0.191249</td>\n",
       "      <td>-0.780927</td>\n",
       "      <td>35.482988</td>\n",
       "      <td>1</td>\n",
       "      <td>-2.902486</td>\n",
       "      <td>1.728532</td>\n",
       "      <td>11</td>\n",
       "    </tr>\n",
       "    <tr>\n",
       "      <th>4</th>\n",
       "      <td>8</td>\n",
       "      <td>1</td>\n",
       "      <td>5927091</td>\n",
       "      <td>5927091</td>\n",
       "      <td>A</td>\n",
       "      <td>-</td>\n",
       "      <td>exonic</td>\n",
       "      <td>NPHP4</td>\n",
       "      <td>.</td>\n",
       "      <td>unknown</td>\n",
       "      <td>...</td>\n",
       "      <td>0.003746</td>\n",
       "      <td>0.070658</td>\n",
       "      <td>0.008043</td>\n",
       "      <td>0.191249</td>\n",
       "      <td>-0.780927</td>\n",
       "      <td>35.482988</td>\n",
       "      <td>1</td>\n",
       "      <td>-2.902486</td>\n",
       "      <td>1.728532</td>\n",
       "      <td>11</td>\n",
       "    </tr>\n",
       "  </tbody>\n",
       "</table>\n",
       "<p>5 rows × 81 columns</p>\n",
       "</div>"
      ],
      "text/plain": [
       "   index Chr    Start      End           Ref Alt Func.refGene Gene.refGene  \\\n",
       "0      1   1  2160491  2160502  CGCTCCACCGAG   -       exonic          SKI   \n",
       "1      5   1  5925202  5925205          CTCA   -       exonic        NPHP4   \n",
       "2      6   1  5925206  5925209          CTGT   -       exonic        NPHP4   \n",
       "3      7   1  5925211  5925214          TGTG   -       exonic        NPHP4   \n",
       "4      8   1  5927091  5927091             A   -       exonic        NPHP4   \n",
       "\n",
       "  GeneDetail.refGene ExonicFunc.refGene  ... startloss  stopgain  stoploss  \\\n",
       "0                  .            unknown  ...  0.003746  0.070658  0.008043   \n",
       "1                  .            unknown  ...  0.003746  0.070658  0.008043   \n",
       "2                  .            unknown  ...  0.003746  0.070658  0.008043   \n",
       "3                  .            unknown  ...  0.003746  0.070658  0.008043   \n",
       "4                  .            unknown  ...  0.003746  0.070658  0.008043   \n",
       "\n",
       "    unknown    Func_b     Func_p Func ExonicFunc_b ExonicFunc_p ExonicFunc  \n",
       "0  0.191249 -0.780927  35.482988    1    -2.902486     1.728532         11  \n",
       "1  0.191249 -0.780927  35.482988    1    -2.902486     1.728532         11  \n",
       "2  0.191249 -0.780927  35.482988    1    -2.902486     1.728532         11  \n",
       "3  0.191249 -0.780927  35.482988    1    -2.902486     1.728532         11  \n",
       "4  0.191249 -0.780927  35.482988    1    -2.902486     1.728532         11  \n",
       "\n",
       "[5 rows x 81 columns]"
      ]
     },
     "execution_count": 28,
     "metadata": {},
     "output_type": "execute_result"
    }
   ],
   "source": [
    "# 提取特征\n",
    "total = process_dataframe(total)\n",
    "total = compute_func_score(total)\n",
    "func_replace(total)\n",
    "total.head()"
   ]
  },
  {
   "cell_type": "code",
   "execution_count": 29,
   "metadata": {
    "collapsed": false,
    "execution": {
     "iopub.execute_input": "2024-01-12T07:51:18.677995Z",
     "iopub.status.busy": "2024-01-12T07:51:18.677732Z",
     "iopub.status.idle": "2024-01-12T07:51:18.736537Z",
     "shell.execute_reply": "2024-01-12T07:51:18.735618Z",
     "shell.execute_reply.started": "2024-01-12T07:51:18.677972Z"
    },
    "jupyter": {
     "outputs_hidden": false
    },
    "pycharm": {
     "name": "#%%\n"
    },
    "tags": []
   },
   "outputs": [],
   "source": [
    "HGMDsg = total.loc[:, columns_list]\n",
    "HGMDsg.columns = rename_col\n",
    "HGMDsg = HGMDsg.replace('.', np.nan)\n",
    "\n",
    "for column in HGMDsg.columns[7:]:\n",
    "    HGMDsg[column] = pd.to_numeric(HGMDsg[column])\n",
    "    HGMDsg[column].fillna(0, inplace=True)"
   ]
  },
  {
   "cell_type": "code",
   "execution_count": 30,
   "metadata": {
    "execution": {
     "iopub.execute_input": "2024-01-12T07:51:18.805055Z",
     "iopub.status.busy": "2024-01-12T07:51:18.804633Z",
     "iopub.status.idle": "2024-01-12T07:51:19.784982Z",
     "shell.execute_reply": "2024-01-12T07:51:19.784137Z",
     "shell.execute_reply.started": "2024-01-12T07:51:18.805023Z"
    },
    "tags": []
   },
   "outputs": [],
   "source": [
    "HGMDsg.to_csv(f'HGMDsg_max_info_{loca}.csv', index=None)"
   ]
  },
  {
   "cell_type": "code",
   "execution_count": 31,
   "metadata": {
    "collapsed": false,
    "execution": {
     "iopub.execute_input": "2024-01-12T07:51:19.786777Z",
     "iopub.status.busy": "2024-01-12T07:51:19.786260Z",
     "iopub.status.idle": "2024-01-12T07:51:19.819754Z",
     "shell.execute_reply": "2024-01-12T07:51:19.818833Z",
     "shell.execute_reply.started": "2024-01-12T07:51:19.786754Z"
    },
    "jupyter": {
     "outputs_hidden": false
    },
    "pycharm": {
     "name": "#%%\n"
    },
    "tags": []
   },
   "outputs": [],
   "source": [
    "x_HGMDsg = HGMDsg.iloc[:,7:-1]\n",
    "y_HGMDsg = HGMDsg['tag']\n",
    "save_data([x_HGMDsg,y_HGMDsg],f'HGMDsg_test_{loca}.pkl')"
   ]
  },
  {
   "cell_type": "markdown",
   "metadata": {
    "jupyter": {
     "outputs_hidden": false
    },
    "pycharm": {
     "name": "#%% md\n"
    },
    "tags": []
   },
   "source": [
    "# Real-world"
   ]
  },
  {
   "cell_type": "code",
   "execution_count": 32,
   "metadata": {
    "execution": {
     "iopub.execute_input": "2024-01-12T07:53:07.851159Z",
     "iopub.status.busy": "2024-01-12T07:53:07.850240Z",
     "iopub.status.idle": "2024-01-12T07:53:45.705344Z",
     "shell.execute_reply": "2024-01-12T07:53:45.703855Z",
     "shell.execute_reply.started": "2024-01-12T07:53:07.851104Z"
    },
    "tags": []
   },
   "outputs": [],
   "source": [
    "real_world_path = '../database/real_world.hg38_multianno.txt'\n",
    "total = pd.read_table(real_world_path)\n",
    "total.loc[:,'tag'] = 0"
   ]
  },
  {
   "cell_type": "code",
   "execution_count": 33,
   "metadata": {
    "execution": {
     "iopub.execute_input": "2024-01-12T07:53:45.742045Z",
     "iopub.status.busy": "2024-01-12T07:53:45.741743Z",
     "iopub.status.idle": "2024-01-12T07:53:52.107091Z",
     "shell.execute_reply": "2024-01-12T07:53:52.106168Z",
     "shell.execute_reply.started": "2024-01-12T07:53:45.742018Z"
    },
    "tags": []
   },
   "outputs": [
    {
     "name": "stderr",
     "output_type": "stream",
     "text": [
      "/tmp/ipykernel_17849/3022711198.py:2: DtypeWarning: Columns (0) have mixed types. Specify dtype option on import or set low_memory=False.\n",
      "  vcf_df = pd.read_csv('/hwfssz1/ST_HEALTH/P20Z10200N0170/weiyilin/project/INDELpred/other_software/CADD/real_world.norm.vcf', sep='\\t', comment='#', header=None)  # 如果VCF文件有标题行，请删除header=None\n"
     ]
    }
   ],
   "source": [
    "# 读取VCF文件和real_world.hg38_multianno.txt文件\n",
    "vcf_df = pd.read_csv('/hwfssz1/ST_HEALTH/P20Z10200N0170/weiyilin/project/INDELpred/other_software/CADD/real_world.norm.vcf', sep='\\t', comment='#', header=None)  # 如果VCF文件有标题行，请删除header=None\n",
    "\n",
    "# 从VCF文件中获取ALT列\n",
    "alt_column = vcf_df[4]  # 假设ALT列是VCF文件的第5列（索引为4）\n",
    "\n",
    "# 确保两个DataFrame的行数相同\n",
    "if len(alt_column) != len(total):\n",
    "    raise ValueError(\"Row mismatch: VCF file and real_world.hg38_multianno.txt file have different number of rows\")\n",
    "\n",
    "# 替换real_world.hg38_multianno.txt DataFrame中的Otherinfo8列\n",
    "total['Otherinfo8'] = alt_column\n",
    "\n"
   ]
  },
  {
   "cell_type": "code",
   "execution_count": 34,
   "metadata": {
    "execution": {
     "iopub.execute_input": "2024-01-12T07:53:52.109101Z",
     "iopub.status.busy": "2024-01-12T07:53:52.108726Z",
     "iopub.status.idle": "2024-01-12T07:53:52.113951Z",
     "shell.execute_reply": "2024-01-12T07:53:52.113146Z",
     "shell.execute_reply.started": "2024-01-12T07:53:52.109080Z"
    },
    "tags": []
   },
   "outputs": [],
   "source": [
    "positive_id = ['chr1_150496874_C_CA',\n",
    " 'chr12_56004905_ATTGT_A',\n",
    " 'chr1_42929269_GC_G',\n",
    " 'chr15_93002203_G_GA',\n",
    " 'chr16_2085248_T_TC',\n",
    " 'chr16_29813694_G_GC',\n",
    " 'chr16_29814384_CG_C',\n",
    " 'chr16_29814593_TC_T',\n",
    " 'chr16_31109379_C_CTT',\n",
    " 'chr16_56351393_C_CACG',\n",
    " 'chr17_2674284_CT_C',\n",
    " 'chr17_2680205_T_TG',\n",
    " 'chr20_63408466_C_CCG',\n",
    " 'chr2_165991735_AGTTT_A',\n",
    " 'chr2_165991859_CAA_C',\n",
    " 'chr22_50720933_GC_G',\n",
    " 'chr3_132666026_GT_G',\n",
    " 'chr5_126552037_TAGAG_T',\n",
    " 'chr8_41934229_CCT_C',\n",
    " 'chr9_127675863_CGT_C',\n",
    " 'chr9_132900776_AGAACC_A',\n",
    " 'chr9_132905686_GCTTT_G',\n",
    " 'chr9_132905986_AC_A',\n",
    " 'chrX_18604059_CTGCA_C',\n",
    " 'chrX_49074880_CAT_C',\n",
    " 'chrX_53399705_GAGTCTTCTGATTCTCA_G']"
   ]
  },
  {
   "cell_type": "code",
   "execution_count": 35,
   "metadata": {
    "collapsed": false,
    "execution": {
     "iopub.execute_input": "2024-01-12T07:53:57.597833Z",
     "iopub.status.busy": "2024-01-12T07:53:57.597214Z",
     "iopub.status.idle": "2024-01-12T07:54:55.058292Z",
     "shell.execute_reply": "2024-01-12T07:54:55.057150Z",
     "shell.execute_reply.started": "2024-01-12T07:53:57.597778Z"
    },
    "jupyter": {
     "outputs_hidden": false
    },
    "pycharm": {
     "name": "#%%\n"
    },
    "tags": []
   },
   "outputs": [
    {
     "data": {
      "text/html": [
       "<div>\n",
       "<style scoped>\n",
       "    .dataframe tbody tr th:only-of-type {\n",
       "        vertical-align: middle;\n",
       "    }\n",
       "\n",
       "    .dataframe tbody tr th {\n",
       "        vertical-align: top;\n",
       "    }\n",
       "\n",
       "    .dataframe thead th {\n",
       "        text-align: right;\n",
       "    }\n",
       "</style>\n",
       "<table border=\"1\" class=\"dataframe\">\n",
       "  <thead>\n",
       "    <tr style=\"text-align: right;\">\n",
       "      <th></th>\n",
       "      <th>Chr</th>\n",
       "      <th>Start</th>\n",
       "      <th>End</th>\n",
       "      <th>Ref</th>\n",
       "      <th>Alt</th>\n",
       "      <th>Func.refGene</th>\n",
       "      <th>Gene.refGene</th>\n",
       "      <th>GeneDetail.refGene</th>\n",
       "      <th>ExonicFunc.refGene</th>\n",
       "      <th>AAChange.refGene</th>\n",
       "      <th>...</th>\n",
       "      <th>startloss</th>\n",
       "      <th>stopgain</th>\n",
       "      <th>stoploss</th>\n",
       "      <th>unknown</th>\n",
       "      <th>Func_b</th>\n",
       "      <th>Func_p</th>\n",
       "      <th>Func</th>\n",
       "      <th>ExonicFunc_b</th>\n",
       "      <th>ExonicFunc_p</th>\n",
       "      <th>ExonicFunc</th>\n",
       "    </tr>\n",
       "  </thead>\n",
       "  <tbody>\n",
       "    <tr>\n",
       "      <th>0</th>\n",
       "      <td>chr1</td>\n",
       "      <td>10147</td>\n",
       "      <td>10147</td>\n",
       "      <td>C</td>\n",
       "      <td>-</td>\n",
       "      <td>intergenic</td>\n",
       "      <td>NONE;DDX11L1</td>\n",
       "      <td>dist=NONE;dist=1727</td>\n",
       "      <td>.</td>\n",
       "      <td>.</td>\n",
       "      <td>...</td>\n",
       "      <td>0.0</td>\n",
       "      <td>0.0</td>\n",
       "      <td>0.0</td>\n",
       "      <td>0.0</td>\n",
       "      <td>-0.473046</td>\n",
       "      <td>0.548091</td>\n",
       "      <td>6</td>\n",
       "      <td>218.599959</td>\n",
       "      <td>-1.8316</td>\n",
       "      <td>12</td>\n",
       "    </tr>\n",
       "    <tr>\n",
       "      <th>1</th>\n",
       "      <td>chr1</td>\n",
       "      <td>10338</td>\n",
       "      <td>10353</td>\n",
       "      <td>CCTAACCCTAACCCTA</td>\n",
       "      <td>-</td>\n",
       "      <td>intergenic</td>\n",
       "      <td>NONE;DDX11L1</td>\n",
       "      <td>dist=NONE;dist=1521</td>\n",
       "      <td>.</td>\n",
       "      <td>.</td>\n",
       "      <td>...</td>\n",
       "      <td>0.0</td>\n",
       "      <td>0.0</td>\n",
       "      <td>0.0</td>\n",
       "      <td>0.0</td>\n",
       "      <td>-0.473046</td>\n",
       "      <td>0.548091</td>\n",
       "      <td>6</td>\n",
       "      <td>218.599959</td>\n",
       "      <td>-1.8316</td>\n",
       "      <td>12</td>\n",
       "    </tr>\n",
       "    <tr>\n",
       "      <th>2</th>\n",
       "      <td>chr1</td>\n",
       "      <td>10397</td>\n",
       "      <td>10397</td>\n",
       "      <td>-</td>\n",
       "      <td>CCCTAACCCTAACCCTAA</td>\n",
       "      <td>intergenic</td>\n",
       "      <td>NONE;DDX11L1</td>\n",
       "      <td>dist=NONE;dist=1477</td>\n",
       "      <td>.</td>\n",
       "      <td>.</td>\n",
       "      <td>...</td>\n",
       "      <td>0.0</td>\n",
       "      <td>0.0</td>\n",
       "      <td>0.0</td>\n",
       "      <td>0.0</td>\n",
       "      <td>-0.473046</td>\n",
       "      <td>0.548091</td>\n",
       "      <td>6</td>\n",
       "      <td>218.599959</td>\n",
       "      <td>-1.8316</td>\n",
       "      <td>12</td>\n",
       "    </tr>\n",
       "    <tr>\n",
       "      <th>3</th>\n",
       "      <td>chr1</td>\n",
       "      <td>10429</td>\n",
       "      <td>10433</td>\n",
       "      <td>CCTAA</td>\n",
       "      <td>-</td>\n",
       "      <td>intergenic</td>\n",
       "      <td>NONE;DDX11L1</td>\n",
       "      <td>dist=NONE;dist=1441</td>\n",
       "      <td>.</td>\n",
       "      <td>.</td>\n",
       "      <td>...</td>\n",
       "      <td>0.0</td>\n",
       "      <td>0.0</td>\n",
       "      <td>0.0</td>\n",
       "      <td>0.0</td>\n",
       "      <td>-0.473046</td>\n",
       "      <td>0.548091</td>\n",
       "      <td>6</td>\n",
       "      <td>218.599959</td>\n",
       "      <td>-1.8316</td>\n",
       "      <td>12</td>\n",
       "    </tr>\n",
       "    <tr>\n",
       "      <th>4</th>\n",
       "      <td>chr1</td>\n",
       "      <td>10440</td>\n",
       "      <td>10440</td>\n",
       "      <td>C</td>\n",
       "      <td>-</td>\n",
       "      <td>intergenic</td>\n",
       "      <td>NONE;DDX11L1</td>\n",
       "      <td>dist=NONE;dist=1434</td>\n",
       "      <td>.</td>\n",
       "      <td>.</td>\n",
       "      <td>...</td>\n",
       "      <td>0.0</td>\n",
       "      <td>0.0</td>\n",
       "      <td>0.0</td>\n",
       "      <td>0.0</td>\n",
       "      <td>-0.473046</td>\n",
       "      <td>0.548091</td>\n",
       "      <td>6</td>\n",
       "      <td>218.599959</td>\n",
       "      <td>-1.8316</td>\n",
       "      <td>12</td>\n",
       "    </tr>\n",
       "  </tbody>\n",
       "</table>\n",
       "<p>5 rows × 81 columns</p>\n",
       "</div>"
      ],
      "text/plain": [
       "    Chr  Start    End               Ref                 Alt Func.refGene  \\\n",
       "0  chr1  10147  10147                 C                   -   intergenic   \n",
       "1  chr1  10338  10353  CCTAACCCTAACCCTA                   -   intergenic   \n",
       "2  chr1  10397  10397                 -  CCCTAACCCTAACCCTAA   intergenic   \n",
       "3  chr1  10429  10433             CCTAA                   -   intergenic   \n",
       "4  chr1  10440  10440                 C                   -   intergenic   \n",
       "\n",
       "   Gene.refGene   GeneDetail.refGene ExonicFunc.refGene AAChange.refGene  ...  \\\n",
       "0  NONE;DDX11L1  dist=NONE;dist=1727                  .                .  ...   \n",
       "1  NONE;DDX11L1  dist=NONE;dist=1521                  .                .  ...   \n",
       "2  NONE;DDX11L1  dist=NONE;dist=1477                  .                .  ...   \n",
       "3  NONE;DDX11L1  dist=NONE;dist=1441                  .                .  ...   \n",
       "4  NONE;DDX11L1  dist=NONE;dist=1434                  .                .  ...   \n",
       "\n",
       "  startloss stopgain stoploss unknown    Func_b    Func_p Func ExonicFunc_b  \\\n",
       "0       0.0      0.0      0.0     0.0 -0.473046  0.548091    6   218.599959   \n",
       "1       0.0      0.0      0.0     0.0 -0.473046  0.548091    6   218.599959   \n",
       "2       0.0      0.0      0.0     0.0 -0.473046  0.548091    6   218.599959   \n",
       "3       0.0      0.0      0.0     0.0 -0.473046  0.548091    6   218.599959   \n",
       "4       0.0      0.0      0.0     0.0 -0.473046  0.548091    6   218.599959   \n",
       "\n",
       "  ExonicFunc_p ExonicFunc  \n",
       "0      -1.8316         12  \n",
       "1      -1.8316         12  \n",
       "2      -1.8316         12  \n",
       "3      -1.8316         12  \n",
       "4      -1.8316         12  \n",
       "\n",
       "[5 rows x 81 columns]"
      ]
     },
     "execution_count": 35,
     "metadata": {},
     "output_type": "execute_result"
    }
   ],
   "source": [
    "# 提取特征\n",
    "total = process_dataframe(total)\n",
    "total['Chr_Start_End_Ref_Alt'] = total['CHR'].astype(str) + '_' + \\\n",
    "                    total['POS'].astype(str) + '_' + \\\n",
    "                    total['REF'] + '_' + \\\n",
    "                    total['ALT']\n",
    "total.loc[total['Chr_Start_End_Ref_Alt'].isin(positive_id), 'tag'] = 1\n",
    "total = compute_func_score(total)\n",
    "func_replace(total)\n",
    "total.head()"
   ]
  },
  {
   "cell_type": "code",
   "execution_count": 36,
   "metadata": {
    "collapsed": false,
    "execution": {
     "iopub.execute_input": "2024-01-12T07:54:57.031913Z",
     "iopub.status.busy": "2024-01-12T07:54:57.031655Z",
     "iopub.status.idle": "2024-01-12T07:55:09.408285Z",
     "shell.execute_reply": "2024-01-12T07:55:09.406762Z",
     "shell.execute_reply.started": "2024-01-12T07:54:57.031890Z"
    },
    "jupyter": {
     "outputs_hidden": false
    },
    "pycharm": {
     "name": "#%%\n"
    },
    "tags": []
   },
   "outputs": [],
   "source": [
    "real_world = total.loc[:, columns_list]\n",
    "real_world.columns = rename_col\n",
    "real_world['CHR'] = real_world['CHR'].str.replace('chr', '')\n",
    "real_world = real_world.replace('.', np.nan)\n",
    "\n",
    "for column in real_world.columns[7:]:\n",
    "    real_world[column] = pd.to_numeric(real_world[column])\n",
    "    real_world[column].fillna(0, inplace=True)"
   ]
  },
  {
   "cell_type": "code",
   "execution_count": 37,
   "metadata": {
    "execution": {
     "iopub.execute_input": "2024-01-12T07:55:09.411621Z",
     "iopub.status.busy": "2024-01-12T07:55:09.411156Z",
     "iopub.status.idle": "2024-01-12T07:56:36.071631Z",
     "shell.execute_reply": "2024-01-12T07:56:36.070432Z",
     "shell.execute_reply.started": "2024-01-12T07:55:09.411595Z"
    },
    "tags": []
   },
   "outputs": [],
   "source": [
    "real_world.to_csv(f'real_world_max_info_{loca}.csv', index=None)"
   ]
  },
  {
   "cell_type": "code",
   "execution_count": 38,
   "metadata": {
    "collapsed": false,
    "execution": {
     "iopub.execute_input": "2024-01-12T07:56:36.073391Z",
     "iopub.status.busy": "2024-01-12T07:56:36.073044Z",
     "iopub.status.idle": "2024-01-12T07:56:38.458824Z",
     "shell.execute_reply": "2024-01-12T07:56:38.457903Z",
     "shell.execute_reply.started": "2024-01-12T07:56:36.073366Z"
    },
    "jupyter": {
     "outputs_hidden": false
    },
    "pycharm": {
     "name": "#%%\n"
    },
    "tags": []
   },
   "outputs": [],
   "source": [
    "x_real_world = real_world.iloc[:,7:-1]\n",
    "y_real_world = real_world['tag']\n",
    "save_data([x_real_world,y_real_world],f'real_world_test_{loca}.pkl')"
   ]
  },
  {
   "cell_type": "code",
   "execution_count": null,
   "metadata": {},
   "outputs": [],
   "source": []
  }
 ],
 "metadata": {
  "kernelspec": {
   "display_name": "sc",
   "language": "python",
   "name": "sc"
  },
  "language_info": {
   "codemirror_mode": {
    "name": "ipython",
    "version": 3
   },
   "file_extension": ".py",
   "mimetype": "text/x-python",
   "name": "python",
   "nbconvert_exporter": "python",
   "pygments_lexer": "ipython3",
   "version": "3.10.12"
  }
 },
 "nbformat": 4,
 "nbformat_minor": 4
}
