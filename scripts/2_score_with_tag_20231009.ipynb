{
 "cells": [
  {
   "cell_type": "code",
   "execution_count": 1,
   "id": "c19ed486-5695-4cfc-a098-df2b84794091",
   "metadata": {
    "execution": {
     "iopub.execute_input": "2024-01-12T07:17:40.479772Z",
     "iopub.status.busy": "2024-01-12T07:17:40.478988Z",
     "iopub.status.idle": "2024-01-12T07:17:43.325830Z",
     "shell.execute_reply": "2024-01-12T07:17:43.324981Z",
     "shell.execute_reply.started": "2024-01-12T07:17:40.479721Z"
    },
    "tags": []
   },
   "outputs": [],
   "source": [
    "import pandas as pd\n",
    "import numpy as np\n",
    "import re"
   ]
  },
  {
   "cell_type": "code",
   "execution_count": 2,
   "id": "f4aab743-ceee-442f-bd26-097e5072f3e2",
   "metadata": {
    "collapsed": false,
    "execution": {
     "iopub.execute_input": "2024-01-12T07:17:43.334421Z",
     "iopub.status.busy": "2024-01-12T07:17:43.334041Z",
     "iopub.status.idle": "2024-01-12T07:17:43.339429Z",
     "shell.execute_reply": "2024-01-12T07:17:43.338729Z",
     "shell.execute_reply.started": "2024-01-12T07:17:43.334395Z"
    },
    "jupyter": {
     "outputs_hidden": false
    },
    "pycharm": {
     "name": "#%%\n"
    },
    "tags": []
   },
   "outputs": [],
   "source": [
    "import pickle\n",
    "def save_data(data, outfile):\n",
    "    with open(outfile, 'wb') as outf:\n",
    "        pickle.dump(data, outf)\n",
    "\n",
    "def load_data(infile):\n",
    "    with open(infile, 'rb') as inf:\n",
    "        data = pickle.load(inf)\n",
    "    return data"
   ]
  },
  {
   "cell_type": "code",
   "execution_count": 3,
   "id": "1c94e8fa-ee57-4af8-b880-bd8d8cd28900",
   "metadata": {
    "execution": {
     "iopub.execute_input": "2024-01-12T07:17:43.341527Z",
     "iopub.status.busy": "2024-01-12T07:17:43.340899Z",
     "iopub.status.idle": "2024-01-12T07:17:43.347180Z",
     "shell.execute_reply": "2024-01-12T07:17:43.346482Z",
     "shell.execute_reply.started": "2024-01-12T07:17:43.341499Z"
    },
    "tags": []
   },
   "outputs": [],
   "source": [
    "import time\n",
    "loca = time.strftime('%Y-%m-%d')"
   ]
  },
  {
   "cell_type": "markdown",
   "id": "832ff35f-0023-405f-9db3-7b7e1c0c1f48",
   "metadata": {},
   "source": [
    "# load max info data"
   ]
  },
  {
   "cell_type": "code",
   "execution_count": 13,
   "id": "52fe126d-4a1a-4f4d-8538-7c547d15c581",
   "metadata": {
    "execution": {
     "iopub.execute_input": "2024-01-12T08:04:11.051020Z",
     "iopub.status.busy": "2024-01-12T08:04:11.050520Z",
     "iopub.status.idle": "2024-01-12T08:04:33.595874Z",
     "shell.execute_reply": "2024-01-12T08:04:33.594575Z",
     "shell.execute_reply.started": "2024-01-12T08:04:11.050988Z"
    },
    "tags": []
   },
   "outputs": [],
   "source": [
    "ClinVar = pd.read_csv(\"ClinVar_max_info_2024-01-12.csv\",dtype={'CHR': str})\n",
    "VKGL = pd.read_csv(\"VKGL_max_info_2024-01-12.csv\",dtype={'CHR': str})\n",
    "HGMD = pd.read_csv(\"HGMD_max_info_2024-01-12.csv\",dtype={'CHR': str})\n",
    "HGMDsg = pd.read_csv(\"HGMDsg_max_info_2024-01-12.csv\",dtype={'CHR': str})\n",
    "real_world = pd.read_csv(\"real_world_max_info_2024-01-12.csv\",dtype={'CHR': str})"
   ]
  },
  {
   "cell_type": "markdown",
   "id": "3be7de9b-2268-47b5-b805-c6f4ec135390",
   "metadata": {
    "tags": []
   },
   "source": [
    "# INDELpred"
   ]
  },
  {
   "cell_type": "code",
   "execution_count": 8,
   "id": "1d2c1168-0f18-4523-a967-cb6f26c91077",
   "metadata": {
    "execution": {
     "iopub.execute_input": "2024-01-12T08:01:43.015693Z",
     "iopub.status.busy": "2024-01-12T08:01:43.015161Z",
     "iopub.status.idle": "2024-01-12T08:01:43.251564Z",
     "shell.execute_reply": "2024-01-12T08:01:43.250833Z",
     "shell.execute_reply.started": "2024-01-12T08:01:43.015662Z"
    },
    "tags": []
   },
   "outputs": [],
   "source": [
    "clf = load_data('../data2023/INDELpred_model_2024-01-12.pkl')"
   ]
  },
  {
   "cell_type": "code",
   "execution_count": 9,
   "id": "e98b4304-312b-4b51-9655-281fb90a7b5f",
   "metadata": {
    "execution": {
     "iopub.execute_input": "2024-01-12T08:01:43.396118Z",
     "iopub.status.busy": "2024-01-12T08:01:43.395520Z",
     "iopub.status.idle": "2024-01-12T08:01:43.404074Z",
     "shell.execute_reply": "2024-01-12T08:01:43.402812Z",
     "shell.execute_reply.started": "2024-01-12T08:01:43.396077Z"
    },
    "tags": []
   },
   "outputs": [],
   "source": [
    "def load_and_predict(data_name):\n",
    "    data_path = f\"{data_name}_test_2024-01-12.pkl\"\n",
    "\n",
    "    x_data, y_data = load_data(data_path)\n",
    "    y_pred_prob = clf.predict_proba(x_data)[:, 1] \n",
    "    y_pred_prob_df = pd.DataFrame(y_pred_prob, columns=['INDELpred score'])\n",
    "\n",
    "    original_df = eval(data_name)\n",
    "    result_df = pd.concat([original_df, y_pred_prob_df], axis=1)\n",
    "    \n",
    "    save_data(result_df, f\"INDELpred_{data_name}_score_{loca}.pkl\")\n",
    "    return result_df\n",
    "\n",
    "# Example usage:\n",
    "# INDELpred_ClinVar = load_and_predict(\"ClinVar\")\n"
   ]
  },
  {
   "cell_type": "code",
   "execution_count": 14,
   "id": "f8e3eaa5-d411-4e5a-b235-2e7405b246ba",
   "metadata": {
    "execution": {
     "iopub.execute_input": "2024-01-12T08:05:36.797445Z",
     "iopub.status.busy": "2024-01-12T08:05:36.796413Z",
     "iopub.status.idle": "2024-01-12T08:05:55.042989Z",
     "shell.execute_reply": "2024-01-12T08:05:55.042273Z",
     "shell.execute_reply.started": "2024-01-12T08:05:36.797394Z"
    },
    "tags": []
   },
   "outputs": [],
   "source": [
    "datasets = [\"ClinVar\", \"VKGL\", \"HGMD\", \"HGMDsg\", \"real_world\"]\n",
    "\n",
    "for data_name in datasets:\n",
    "    load_and_predict(data_name)\n"
   ]
  },
  {
   "cell_type": "markdown",
   "id": "6df31976-e18e-4f24-b712-dcda4323c181",
   "metadata": {},
   "source": [
    "# MetaRNN"
   ]
  },
  {
   "cell_type": "code",
   "execution_count": 69,
   "id": "d298054e-57b3-4de7-8984-874b3c0d1916",
   "metadata": {
    "execution": {
     "iopub.execute_input": "2023-10-12T03:16:55.734714Z",
     "iopub.status.busy": "2023-10-12T03:16:55.734231Z",
     "iopub.status.idle": "2023-10-12T03:16:55.741682Z",
     "shell.execute_reply": "2023-10-12T03:16:55.740961Z",
     "shell.execute_reply.started": "2023-10-12T03:16:55.734686Z"
    },
    "tags": []
   },
   "outputs": [],
   "source": [
    "def process_and_merge_metaRNN(data_name):\n",
    "    MetaRNN = pd.read_csv(f\"/hwfssz1/ST_HEALTH/P20Z10200N0170/weiyilin/project/INDELpred/other_software/MetaRNN/{data_name}.indel.annotated\", sep=\"\\t\", dtype={'#CHROM': str, 'Pos': int})\n",
    "    MetaRNN['#CHROM'] = MetaRNN['#CHROM'].str.replace('chr', '')\n",
    "    last_column = MetaRNN.columns[-1]\n",
    "    MetaRNN[last_column] = MetaRNN[last_column].apply(lambda x: x.split(';')[-1] if ';' in x else x)\n",
    "    original_df = eval(data_name)\n",
    "    print(MetaRNN.shape,original_df.shape)\n",
    "    merged_df = pd.merge(MetaRNN, original_df, \n",
    "                         left_on=['#CHROM', 'POS', 'REF', 'ALT'], \n",
    "                         right_on=['CHR', 'POS', 'REF', 'ALT'], how='right')\n",
    "    print(merged_df[['#CHROM', 'POS']].isna().sum())\n",
    "    merged_df = merged_df.dropna(subset=['#CHROM', 'POS'])\n",
    "    save_data(merged_df, f\"../final_intermediate_file/MetaRNN_{data_name}_score_{loca}.pkl\")\n",
    "    return merged_df\n",
    "\n",
    "# Example usage:\n",
    "# result_real_world = process_and_merge_metaRNN(\"real_world\")\n"
   ]
  },
  {
   "cell_type": "code",
   "execution_count": 70,
   "id": "10179568-f3ee-4a52-974f-9049a954576f",
   "metadata": {
    "execution": {
     "iopub.execute_input": "2023-10-12T03:16:57.643609Z",
     "iopub.status.busy": "2023-10-12T03:16:57.642837Z",
     "iopub.status.idle": "2023-10-12T03:17:08.197122Z",
     "shell.execute_reply": "2023-10-12T03:17:08.195633Z",
     "shell.execute_reply.started": "2023-10-12T03:16:57.643553Z"
    },
    "tags": []
   },
   "outputs": [
    {
     "name": "stdout",
     "output_type": "stream",
     "text": [
      "(9946, 6) (49385, 33)\n",
      "#CHROM    47667\n",
      "POS           0\n",
      "dtype: int64\n",
      "(1738, 6) (7985, 31)\n",
      "#CHROM    7330\n",
      "POS          0\n",
      "dtype: int64\n",
      "(2035, 6) (46729, 30)\n",
      "#CHROM    44692\n",
      "POS           0\n",
      "dtype: int64\n",
      "(1531, 6) (35191, 30)\n",
      "#CHROM    33660\n",
      "POS           0\n",
      "dtype: int64\n",
      "(1009, 6) (3329183, 30)\n",
      "#CHROM    3328288\n",
      "POS             0\n",
      "dtype: int64\n"
     ]
    }
   ],
   "source": [
    "datasets = [\"ClinVar\", \"VKGL\", \"HGMD\", \"HGMDsg\", \"real_world\"]\n",
    "\n",
    "for data_name in datasets:\n",
    "    process_and_merge_metaRNN(data_name)\n"
   ]
  },
  {
   "cell_type": "markdown",
   "id": "27254220-b6b4-4e67-8cd8-dc97dad6a24a",
   "metadata": {},
   "source": [
    "# CADD"
   ]
  },
  {
   "cell_type": "code",
   "execution_count": 7,
   "id": "8d778f84-a928-40a1-871d-fb7e98620c32",
   "metadata": {
    "execution": {
     "iopub.execute_input": "2023-11-01T08:28:54.401338Z",
     "iopub.status.busy": "2023-11-01T08:28:54.400570Z",
     "iopub.status.idle": "2023-11-01T08:28:54.413525Z",
     "shell.execute_reply": "2023-11-01T08:28:54.412291Z",
     "shell.execute_reply.started": "2023-11-01T08:28:54.401282Z"
    },
    "tags": []
   },
   "outputs": [],
   "source": [
    "def process_and_merge_CADD(data_name):\n",
    "    CADD = pd.read_csv(f\"/hwfssz1/ST_HEALTH/P20Z10200N0170/weiyilin/project/INDELpred/other_software/CADD/{data_name}.tsv\", sep=\"\\t\", skiprows=1, dtype={'#Chrom': str, 'Pos': int}, usecols=[\"#Chrom\", \"Pos\", \"Ref\", \"Alt\", 'PHRED'])\n",
    "    CADD['#Chrom'] = CADD['#Chrom'].str.replace('chr', '')\n",
    "    CADD = CADD.drop_duplicates(subset=[\"#Chrom\", \"Pos\", \"Ref\", \"Alt\"])\n",
    "    original_df = eval(data_name)\n",
    "    merged_df = pd.merge(CADD, original_df, \n",
    "                         left_on=['#Chrom', 'Pos', 'Ref', 'Alt'], \n",
    "                         right_on=['CHR', 'POS', 'REF', 'ALT'], how='right')\n",
    "    print(CADD.shape,original_df.shape)\n",
    "    merged_df = merged_df.dropna(subset=['#Chrom', 'Pos'])\n",
    "    print(merged_df.shape)\n",
    "    save_data(merged_df, f\"../final_intermediate_file/CADD_{data_name}_score_{loca}.pkl\")\n",
    "    return merged_df\n"
   ]
  },
  {
   "cell_type": "code",
   "execution_count": 8,
   "id": "c187fe36-08f7-4e66-bb82-e519d1541653",
   "metadata": {
    "execution": {
     "iopub.execute_input": "2023-11-01T08:28:54.830852Z",
     "iopub.status.busy": "2023-11-01T08:28:54.830233Z",
     "iopub.status.idle": "2023-11-01T08:28:56.348967Z",
     "shell.execute_reply": "2023-11-01T08:28:56.348181Z",
     "shell.execute_reply.started": "2023-11-01T08:28:54.830790Z"
    },
    "tags": []
   },
   "outputs": [
    {
     "name": "stdout",
     "output_type": "stream",
     "text": [
      "(45056, 5) (46729, 28)\n",
      "(46729, 33)\n",
      "(35190, 5) (35191, 28)\n",
      "(35191, 33)\n"
     ]
    }
   ],
   "source": [
    "# datasets = [\"ClinVar\", \"VKGL\", \"HGMD\", \"HGMDsg\", \"real_world\"]\n",
    "datasets = [\"HGMD\", \"HGMDsg\"]\n",
    "\n",
    "for data_name in datasets:\n",
    "    process_and_merge_CADD(data_name)\n"
   ]
  },
  {
   "cell_type": "markdown",
   "id": "d557ae38-7bb8-47da-a745-cd88cac71937",
   "metadata": {
    "pycharm": {
     "name": "#%%\n"
    },
    "tags": []
   },
   "source": [
    "# VEST-INDEL"
   ]
  },
  {
   "cell_type": "code",
   "execution_count": 73,
   "id": "4778eb46-fe8f-462b-9371-6c55fa91aefa",
   "metadata": {
    "execution": {
     "iopub.execute_input": "2023-10-12T03:18:12.746085Z",
     "iopub.status.busy": "2023-10-12T03:18:12.745299Z",
     "iopub.status.idle": "2023-10-12T03:18:12.762132Z",
     "shell.execute_reply": "2023-10-12T03:18:12.760934Z",
     "shell.execute_reply.started": "2023-10-12T03:18:12.746017Z"
    },
    "tags": []
   },
   "outputs": [],
   "source": [
    "def process_and_merge_VEST(data_name):\n",
    "    VEST = pd.read_csv(f\"/hwfssz1/ST_HEALTH/P20Z10200N0170/weiyilin/project/INDELpred/other_software/VEST-INDEL/{data_name}.CSV\", dtype={'Chromosome': str, 'Position': int})\n",
    "    VEST['Chromosome'] = VEST['Chromosome'].str.replace('chr', '')\n",
    "    cols_to_merge = [\n",
    "    'VEST score (frameshift indels)', \n",
    "    'VEST score (inframe indels)', \n",
    "    'VEST score (stop-gain)', \n",
    "    'VEST score (stop-loss)', \n",
    "    'VEST score (splice site)'\n",
    "    ]\n",
    "    VEST['VEST score'] = VEST[cols_to_merge].sum(axis=1)\n",
    "    VEST = VEST.drop(cols_to_merge, axis=1)\n",
    "    VEST['Position'] -= 1\n",
    "    \n",
    "    original_df = eval(data_name)\n",
    "    original_df['REF_ADJUSTED'] = original_df.apply(lambda row: '-' if len(row['REF']) == 1 else row['REF'][1:], axis=1)\n",
    "    original_df['ALT_ADJUSTED'] = original_df.apply(lambda row: '-' if pd.isnull(row['ALT']) or isinstance(row['ALT'], float) or len(row['ALT']) == 1 else row['ALT'][1:], axis=1)\n",
    "\n",
    "    \n",
    "    merged_df = pd.merge(VEST, original_df, \n",
    "                         left_on=['Chromosome', 'Position', 'Reference base(s)', 'Alternate base(s)'],\n",
    "                         right_on=['CHR', 'POS', 'REF_ADJUSTED', 'ALT_ADJUSTED'], how='right')\n",
    "    print(VEST.shape,original_df.shape)\n",
    "    print(merged_df[['Chromosome', 'Position']].isna().sum())\n",
    "    merged_df = merged_df.dropna(subset=['Chromosome', 'Position'])\n",
    "    save_data(merged_df, f\"../final_intermediate_file/VEST_{data_name}_score_{loca}.pkl\")\n",
    "    return merged_df\n"
   ]
  },
  {
   "cell_type": "code",
   "execution_count": 74,
   "id": "896d138a-533a-43ab-a388-75489302bf7c",
   "metadata": {
    "execution": {
     "iopub.execute_input": "2023-10-12T03:18:15.147319Z",
     "iopub.status.busy": "2023-10-12T03:18:15.146661Z",
     "iopub.status.idle": "2023-10-12T03:19:44.801717Z",
     "shell.execute_reply": "2023-10-12T03:19:44.800187Z",
     "shell.execute_reply.started": "2023-10-12T03:18:15.147267Z"
    },
    "tags": []
   },
   "outputs": [
    {
     "name": "stdout",
     "output_type": "stream",
     "text": [
      "(54374, 5) (49385, 33)\n",
      "Chromosome    16076\n",
      "Position      16076\n",
      "dtype: int64\n",
      "(7779, 6) (7985, 31)\n",
      "Chromosome    3032\n",
      "Position      3032\n",
      "dtype: int64\n",
      "(22160, 5) (46729, 30)\n",
      "Chromosome    24562\n",
      "Position      24562\n",
      "dtype: int64\n",
      "(17483, 5) (35191, 30)\n",
      "Chromosome    17702\n",
      "Position      17702\n",
      "dtype: int64\n",
      "(3113, 5) (3329183, 30)\n",
      "Chromosome    3326664\n",
      "Position      3326664\n",
      "dtype: int64\n"
     ]
    }
   ],
   "source": [
    "datasets = [\"ClinVar\", \"VKGL\", \"HGMD\", \"HGMDsg\", \"real_world\"]\n",
    "\n",
    "for data_name in datasets:\n",
    "    process_and_merge_VEST(data_name)\n"
   ]
  },
  {
   "cell_type": "markdown",
   "id": "6d93587b-f08c-4b63-8263-212e9b06c357",
   "metadata": {},
   "source": [
    "# CAPICE"
   ]
  },
  {
   "cell_type": "code",
   "execution_count": 9,
   "id": "9baec5ca-cba0-4443-8e8f-187f9de32be7",
   "metadata": {
    "execution": {
     "iopub.execute_input": "2023-11-01T08:29:13.449019Z",
     "iopub.status.busy": "2023-11-01T08:29:13.448272Z",
     "iopub.status.idle": "2023-11-01T08:29:13.460665Z",
     "shell.execute_reply": "2023-11-01T08:29:13.459485Z",
     "shell.execute_reply.started": "2023-11-01T08:29:13.448964Z"
    },
    "tags": []
   },
   "outputs": [],
   "source": [
    "def process_and_merge_CAPICE(data_name):\n",
    "    CAPICE = pd.read_csv(f\"/hwfssz1/ST_HEALTH/P20Z10200N0170/weiyilin/project/INDELpred/other_software/CAPICE/{data_name}_capice.tsv\", sep=\"\\t\", dtype={'chr': str, \"pos\": int})\n",
    "    CAPICE['chr'] = CAPICE['chr'].str.replace('chr', '')\n",
    "    CAPICE = CAPICE.drop_duplicates(subset=[\"chr\", \"pos\", \"ref\", \"alt\"])\n",
    "    original_df = eval(data_name)\n",
    "    merged_df = pd.merge(CAPICE, original_df, \n",
    "                         left_on=[\"chr\", \"pos\", \"ref\", \"alt\"], \n",
    "                         right_on=['CHR', 'POS', 'REF', 'ALT'], how='right')\n",
    "    print(CAPICE.shape,original_df.shape)\n",
    "    print(merged_df[[\"chr\", \"pos\"]].isna().sum())\n",
    "    merged_df = merged_df.dropna(subset=[\"chr\", \"pos\"])\n",
    "    save_data(merged_df, f\"../final_intermediate_file/CAPICE_{data_name}_score_{loca}.pkl\")\n",
    "    return merged_df\n"
   ]
  },
  {
   "cell_type": "code",
   "execution_count": 10,
   "id": "c1ba896e-2bc2-4e40-afdc-425d907461fd",
   "metadata": {
    "execution": {
     "iopub.execute_input": "2023-11-01T08:29:13.768465Z",
     "iopub.status.busy": "2023-11-01T08:29:13.767865Z",
     "iopub.status.idle": "2023-11-01T08:29:15.658295Z",
     "shell.execute_reply": "2023-11-01T08:29:15.657522Z",
     "shell.execute_reply.started": "2023-11-01T08:29:13.768416Z"
    },
    "tags": []
   },
   "outputs": [
    {
     "name": "stdout",
     "output_type": "stream",
     "text": [
      "(45056, 11) (46729, 28)\n",
      "chr    0\n",
      "pos    0\n",
      "dtype: int64\n",
      "(35190, 11) (35191, 28)\n",
      "chr    0\n",
      "pos    0\n",
      "dtype: int64\n"
     ]
    }
   ],
   "source": [
    "# datasets = [\"ClinVar\", \"VKGL\", \"HGMD\", \"HGMDsg\", \"real_world\"]\n",
    "datasets = [\"HGMD\", \"HGMDsg\"]\n",
    "\n",
    "for data_name in datasets:\n",
    "    process_and_merge_CAPICE(data_name)\n"
   ]
  },
  {
   "cell_type": "code",
   "execution_count": null,
   "id": "cb272979-8aff-48d1-a190-c705d44e5871",
   "metadata": {},
   "outputs": [],
   "source": []
  }
 ],
 "metadata": {
  "kernelspec": {
   "display_name": "sc",
   "language": "python",
   "name": "sc"
  },
  "language_info": {
   "codemirror_mode": {
    "name": "ipython",
    "version": 3
   },
   "file_extension": ".py",
   "mimetype": "text/x-python",
   "name": "python",
   "nbconvert_exporter": "python",
   "pygments_lexer": "ipython3",
   "version": "3.10.12"
  },
  "toc-showtags": false
 },
 "nbformat": 4,
 "nbformat_minor": 5
}
